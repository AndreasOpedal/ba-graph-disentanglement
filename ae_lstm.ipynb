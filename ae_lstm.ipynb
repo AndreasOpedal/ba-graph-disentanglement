{
 "cells": [
  {
   "cell_type": "markdown",
   "metadata": {},
   "source": [
    "# Description"
   ]
  },
  {
   "cell_type": "markdown",
   "metadata": {},
   "source": [
    "This notebook implements the AE LSTM model. All the code was written by our Deep Learning project team. \n",
    "Additional external code is imported. You will first find the tool functions for generating the \n",
    "data and building the models. Then, at the bottom of the notebook you will find the experiments with \n",
    "plots and results used in our repport. \n",
    "\n",
    "You can find the customized loss functions in the `Tool Functions` part of the code below. They are called \n",
    "`reconstruction_loss_with_sequence_loss` and `reconstruction_loss_without_sequence_loss` respectively for the loss over the entire sequence of LSTM output graphs and the loss over the final output graph only. "
   ]
  },
  {
   "cell_type": "markdown",
   "metadata": {},
   "source": [
    "# Imports"
   ]
  },
  {
   "cell_type": "code",
   "execution_count": 1,
   "metadata": {},
   "outputs": [],
   "source": [
    "## Network Processing\n",
    "import networkx as nx \n",
    "from barabasi_albert import barabasi_albert_graph\n",
    "\n",
    "## Matrix Processing\n",
    "import numpy as np\n",
    "import pandas as pd\n",
    "import scipy as sp\n",
    "\n",
    "## AE\n",
    "import keras.backend as K\n",
    "from keras.models import Input, Model, Sequential\n",
    "from keras.layers import Dense, Activation, Dropout, Lambda, LSTM, \\\n",
    "                Conv1DTranspose, Conv2DTranspose, Permute, Bidirectional\n",
    "from multi_graph_cnn_layer import MultiGraphCNN\n",
    "import tensorflow as tf\n",
    "\n",
    "## Data Processing\n",
    "from sklearn.utils import shuffle\n",
    "\n",
    "## External tool functions\n",
    "from utils import *\n",
    "\n",
    "## Error metrics\n",
    "from sklearn.metrics import mean_squared_error, r2_score\n",
    "\n",
    "## Seed the pseudorandom number generator\n",
    "from random import seed\n",
    "from random import randint\n",
    "\n",
    "## Plotting \n",
    "import matplotlib.pyplot as plt"
   ]
  },
  {
   "cell_type": "markdown",
   "metadata": {},
   "source": [
    "# TOOL FUNCTIONS"
   ]
  },
  {
   "cell_type": "markdown",
   "metadata": {},
   "source": [
    "### Data Generation"
   ]
  },
  {
   "cell_type": "code",
   "execution_count": 2,
   "metadata": {},
   "outputs": [],
   "source": [
    "def generate_barabasi_adj_matrix(n, m, alpha=1):\n",
    "    \"\"\"Generates a Barabasi Alert graph and returns an adjacency matrix with\n",
    "     a node ordering defined by the networkx Graph library\"\"\"\n",
    "    \n",
    "    assert n <= N_MAX, 'n must be less or equal that N_MAX'\n",
    "    \n",
    "    adj_matrix = np.zeros((N_MAX, N_MAX))\n",
    "        \n",
    "    networkx_graph = barabasi_albert_graph(n, m, alpha, seed=SEED)\n",
    "    sparse_matrix = nx.linalg.graphmatrix.adjacency_matrix(networkx_graph, nodelist=None, weight=None)\n",
    "    \n",
    "    adj_matrix[:n, :n] = sparse_matrix.todense()\n",
    "    \n",
    "    return adj_matrix"
   ]
  },
  {
   "cell_type": "code",
   "execution_count": 3,
   "metadata": {},
   "outputs": [],
   "source": [
    "def generate_multi_barabasi_graphs(nb_graphs, scenario_type):\n",
    "    \"\"\"Generates 'nb_graphs' Barabasi graphs. Each graph has 'n' nodes, the first \n",
    "    parameter of the Barabasi-Albert model, where 'n' is selected in a different way depending \n",
    "    of the 'scenario_type', as well as 'm' and 'alpha'.\n",
    "    The function outputs the adjacency matrices, the feature matrices (identity matrices) \n",
    "    and the parameters n and m used in the data generation process\"\"\"\n",
    "\n",
    "    # Each matrix generated during the graph generation process is vertically concatenated to the output\n",
    "    adjacency_matrices = np.zeros((nb_graphs*N_MAX, N_MAX))\n",
    "    feature_matrices = np.zeros((nb_graphs*N_MAX, N_MAX))\n",
    "    parameter_vectors = np.zeros((nb_graphs, LATENT_SPACE_SIZE))\n",
    "\n",
    "    for sample_graph_index in range(nb_graphs):\n",
    "        \n",
    "        if scenario_type == 0:\n",
    "            # n is constant, m is constant and alpha = 1\n",
    "            n = N_MIN\n",
    "            m = N_MIN-1\n",
    "            alpha = 1\n",
    "            \n",
    "        if scenario_type == 1:\n",
    "            # n is constant, m varies and alpha = 1\n",
    "            n = N_MAX\n",
    "            m = randint(1, n-1)\n",
    "            alpha = 1\n",
    "            \n",
    "        if scenario_type == 2:\n",
    "            # n varies, m is proportional to n and alpha = 1\n",
    "            n = randint(N_MIN, N_MAX)\n",
    "            m = max(1, int(n / 3.0))\n",
    "            alpha = 1\n",
    "            \n",
    "        if scenario_type == 3:\n",
    "            # n varies, m varies and alpha = 1\n",
    "            n = randint(N_MIN, N_MAX)\n",
    "            m = randint(1, n-1)\n",
    "            alpha = 1\n",
    "            \n",
    "        if scenario_type == 4:\n",
    "            # n varies, m varies and alpha varies in [0,1]\n",
    "            n = randint(N_MIN, N_MAX)\n",
    "            m = randint(1, n-1)\n",
    "            alpha = np.random.uniform()\n",
    "        \n",
    "        # Generate Barabasi Graph adjacency matrix\n",
    "        adj_matrix = generate_barabasi_adj_matrix(n, m, alpha)\n",
    "\n",
    "        # Update output matrices\n",
    "        row_start_index = N_MAX * sample_graph_index\n",
    "        \n",
    "        adjacency_matrices[row_start_index: row_start_index + N_MAX, :] = adj_matrix\n",
    "        feature_matrices[row_start_index: row_start_index + n, :n] = np.eye(n)\n",
    "        parameter_vectors[sample_graph_index, :] = [n, m, alpha]\n",
    "    \n",
    "    return adjacency_matrices, feature_matrices, parameter_vectors"
   ]
  },
  {
   "cell_type": "code",
   "execution_count": 4,
   "metadata": {},
   "outputs": [],
   "source": [
    "def format_data(A, X, Y):\n",
    "    \"\"\"\n",
    "    Format the data such that it is a matrix of matrices (a batch containing sample matrices)\n",
    "    \"\"\"\n",
    "\n",
    "    # Load and prepare the adjacency matrices\n",
    "    num_graph_nodes = A.shape[1]\n",
    "    num_graphs = int(A.shape[0]/A.shape[1])\n",
    "\n",
    "    A = np.split(A, num_graphs, axis=0)\n",
    "    A = np.array(A)\n",
    "\n",
    "    # Load and prepare the feature matrices\n",
    "    X = np.split(X, num_graphs, axis=0)\n",
    "    X = np.array(X)\n",
    "\n",
    "    # Shuffle data before training\n",
    "    A, X, Y = shuffle(A, X, Y)\n",
    "    \n",
    "    return A, X, Y "
   ]
  },
  {
   "cell_type": "markdown",
   "metadata": {},
   "source": [
    "### AE LSTM"
   ]
  },
  {
   "cell_type": "code",
   "execution_count": 5,
   "metadata": {},
   "outputs": [],
   "source": [
    "def get_mask(step):\n",
    "    \"\"\"\n",
    "    Tool function used in the customized loss. Create a mask that select a specific step of the \n",
    "    output sequence of graphs in the LSTM. \n",
    "    \"\"\"\n",
    "        \n",
    "    if step > 0: \n",
    "          \n",
    "        mask_zeros_before = tf.fill([BATCH_SIZE_AE, step, N_MAX, N_MAX], 0.0)\n",
    "        mask_ones = tf.fill([BATCH_SIZE_AE, 1, N_MAX, N_MAX], 1.0)\n",
    "        mask_zeros_after = tf.fill([BATCH_SIZE_AE, N_MAX-step-1, N_MAX, N_MAX], 0.0)\n",
    "        \n",
    "        mask = tf.concat([mask_zeros_before, mask_ones, mask_zeros_after], axis=1)\n",
    "    \n",
    "    else:\n",
    "        \n",
    "        mask_ones = tf.fill([BATCH_SIZE_AE, 1, N_MAX, N_MAX], 1.0)\n",
    "        mask_zeros_after = tf.fill([BATCH_SIZE_AE, N_MAX-1, N_MAX, N_MAX], 0.0)\n",
    "        mask = tf.concat([mask_ones, mask_zeros_after], axis=1)\n",
    "        \n",
    "    return mask"
   ]
  },
  {
   "cell_type": "code",
   "execution_count": 6,
   "metadata": {},
   "outputs": [],
   "source": [
    "def reconstruction_loss_with_sequence_loss(y_true, y_pred):\n",
    "    \"\"\"\n",
    "    Customized reconstruction loss. It ensures that the output sequence of the LSTM corresponds to \n",
    "    valid adjacency matrices (symmetric, trace equals 0) and that the first graph is empty, the last \n",
    "    graph has similar propreties as the input graph (same number of nodes, number of edges, \n",
    "    degree distribution) and the graphs in between have increasing number of nodes and edges.\n",
    "    \"\"\"\n",
    "        \n",
    "    y_pred = K.reshape(y_pred, shape = (BATCH_SIZE_AE, N_MAX, N_MAX, N_MAX))   \n",
    "    reconstruction_loss = tf.fill([BATCH_SIZE_AE, N_MAX], 0.0)\n",
    "             \n",
    "    ## Loss all steps\n",
    "     \n",
    "    # Ensures symmetry  \n",
    "    t_transpose = tf.transpose(y_pred, perm=[0, 1, 3, 2])\n",
    "    non_symmetry_loss = y_pred - t_transpose\n",
    "    non_symmetry_loss = non_symmetry_loss * non_symmetry_loss\n",
    "    non_symmetry_loss = tf.math.reduce_sum(non_symmetry_loss, axis=[-1,-2])\n",
    "    reconstruction_loss += non_symmetry_loss\n",
    "    \n",
    "    # Ensures that the trace is 0\n",
    "    trace_mask = np.repeat(np.zeros((N_MAX, N_MAX)), N_MAX).reshape((N_MAX, N_MAX, N_MAX))\n",
    "    for i in range(len(trace_mask)):\n",
    "        trace_mask[i,:,:] = np.eye(N_MAX)\n",
    "    trace_mask = tf.constant(trace_mask, dtype=tf.dtypes.float32)\n",
    "    trace_loss = y_pred * trace_mask\n",
    "    trace_loss = tf.math.reduce_sum(trace_loss, axis=[-1,-2])\n",
    "    trace_loss = trace_loss * trace_loss\n",
    "    reconstruction_loss += trace_loss\n",
    "    \n",
    "    # Ensures that there is an increasing number of nodes\n",
    "    sum_per_step = tf.math.reduce_sum(y_pred, axis=[-1,-2])\n",
    "    sum_per_step_rolled = tf.roll(sum_per_step, shift=1, axis=1)\n",
    "    first_step_mask = np.zeros((BATCH_SIZE_AE, N_MAX))\n",
    "    first_step_mask[:, 0] = np.ones((BATCH_SIZE_AE, 1)).flatten()\n",
    "    sum_per_step_rolled = sum_per_step_rolled * (1 - first_step_mask) + sum_per_step * first_step_mask\n",
    "    sum_per_step_loss = sum_per_step - sum_per_step_rolled\n",
    "    sum_per_step_loss = tf.math.maximum(tf.fill([BATCH_SIZE_AE, N_MAX], 0.0), -1*sum_per_step_loss-1)\n",
    "    sum_per_step_loss = sum_per_step_loss * sum_per_step_loss\n",
    "    reconstruction_loss += sum_per_step_loss\n",
    "    \n",
    "    # Ensures that there is an increasing number of edges\n",
    "    degree_per_step_rolled = tf.roll(y_pred, shift=1, axis=1)\n",
    "    first_step_mask = np.zeros((BATCH_SIZE_AE, N_MAX, N_MAX, N_MAX))\n",
    "    first_step_mask[:, 0, :, :] = \\\n",
    "                    np.repeat(np.ones((N_MAX, N_MAX)), BATCH_SIZE_AE).reshape((BATCH_SIZE_AE, N_MAX, N_MAX))\n",
    "    degree_per_step_rolled = degree_per_step_rolled * (1 - first_step_mask) + y_pred * first_step_mask\n",
    "    degree_per_step_loss = y_pred - degree_per_step_rolled\n",
    "    degree_per_step_loss = \\\n",
    "        tf.math.maximum(tf.fill([BATCH_SIZE_AE, N_MAX, N_MAX, N_MAX], 0.0), -1*degree_per_step_loss)\n",
    "    degree_per_step_loss = tf.math.reduce_sum(degree_per_step_loss, axis=[-1,-2])\n",
    "    degree_per_step_loss = degree_per_step_loss * degree_per_step_loss\n",
    "    reconstruction_loss += degree_per_step_loss\n",
    "        \n",
    "    # From step loss to global loss\n",
    "    reconstruction_loss = tf.math.reduce_sum(reconstruction_loss, axis=-1)\n",
    "    \n",
    "    ## Loss first step\n",
    "    \n",
    "    # Ensures that we start with an empty graph \n",
    "    mask_first_step = get_mask(step=0)   \n",
    "    y_pred_first_step = y_pred * mask_first_step\n",
    "    first_step_loss = tf.math.reduce_sum(y_pred_first_step, axis=[-1,-2])\n",
    "    first_step_loss = tf.math.reduce_sum(first_step_loss, axis=-1)\n",
    "    first_step_loss = first_step_loss * first_step_loss\n",
    "    reconstruction_loss += first_step_loss\n",
    "    \n",
    "    ## Loss last step\n",
    "    mask_last_step = get_mask(step=N_MAX-1)\n",
    "    y_pred_last_step = y_pred * mask_last_step\n",
    "    \n",
    "    # Ensures that the last graph has the same number of edges than input graph\n",
    "    binary_last_step = tf.math.round(y_pred_last_step)\n",
    "    non_zero_columns = tf.math.count_nonzero(binary_last_step, axis=2, dtype=tf.dtypes.float32)\n",
    "    non_zero_rows = tf.math.count_nonzero(y_pred_last_step, axis=3, dtype=tf.dtypes.float32)\n",
    "    last_step_symmetry_loss = (non_zero_columns - non_zero_rows) * (non_zero_columns - non_zero_rows)\n",
    "    last_step_symmetry_loss = tf.math.reduce_sum(last_step_symmetry_loss, axis=[-1,-2])\n",
    "    last_step_symmetry_loss = last_step_symmetry_loss * last_step_symmetry_loss\n",
    "    reconstruction_loss += last_step_symmetry_loss\n",
    "    \n",
    "    # Ensures that the last graph has the same edge distribution than input graph\n",
    "    sum_degrees_loss = tf.math.reduce_sum(y_pred_last_step, axis=[-1,-2])\n",
    "    sum_degrees_loss = tf.math.reduce_sum(sum_degrees_loss, axis=-1)\n",
    "    a_degrees = tf.math.reduce_sum(y_true, axis=[-1,-2])\n",
    "    sum_degrees_loss = (sum_degrees_loss - a_degrees) * (sum_degrees_loss - a_degrees) \n",
    "    sum_degrees_loss = sum_degrees_loss * sum_degrees_loss\n",
    "    reconstruction_loss += sum_degrees_loss\n",
    "        \n",
    "    ordered_degrees_pred = tf.math.reduce_sum(y_pred_last_step, axis=-1)\n",
    "    ordered_degrees_pred = tf.math.reduce_sum(ordered_degrees_pred, axis=-2)\n",
    "    ordered_degrees_pred = tf.sort(ordered_degrees_pred,axis=-1)\n",
    "    ordered_degrees_true = tf.math.reduce_sum(y_true, axis=-1)\n",
    "    ordered_degrees_true = tf.sort(ordered_degrees_true,axis=-1)\n",
    "    ordered_degrees_loss = (ordered_degrees_pred-ordered_degrees_true)* \\\n",
    "                            (ordered_degrees_pred-ordered_degrees_true)\n",
    "    ordered_degrees_loss = tf.math.reduce_sum(ordered_degrees_loss, axis=-1)\n",
    "    ordered_degrees_loss = ordered_degrees_loss * ordered_degrees_loss\n",
    "    \n",
    "    kl = tf.keras.losses.KLDivergence(reduction=tf.keras.losses.Reduction.NONE)\n",
    "    kl_degree_distribution_loss = tf.math.round(kl(ordered_degrees_true, ordered_degrees_pred))\n",
    "    kl_degree_distribution_loss *= KL_WEIGHT\n",
    "    \n",
    "    variance_degrees_pred = tf.math.reduce_std(ordered_degrees_pred, axis=1)\n",
    "    variance_degrees_true = tf.math.reduce_std(ordered_degrees_true, axis=1)\n",
    "    variance_degrees_loss = (variance_degrees_pred - variance_degrees_true) * \\\n",
    "                            (variance_degrees_pred - variance_degrees_true)\n",
    "    variance_degrees_loss = variance_degrees_loss * variance_degrees_loss\n",
    "    reconstruction_loss += variance_degrees_loss\n",
    "    \n",
    "    # Ensures that the last graph has the same number of nodes than input graph\n",
    "    n_pred = tf.math.reduce_sum(binary_last_step, axis=-1)\n",
    "    n_pred = tf.math.minimum(tf.fill([BATCH_SIZE_AE, N_MAX, N_MAX], 1.0), n_pred)\n",
    "    n_pred = tf.math.reduce_sum(n_pred, axis=[-1, -2])\n",
    "    n_true = tf.math.reduce_sum(y_true, axis=-1)\n",
    "    n_true = tf.math.minimum(tf.fill([BATCH_SIZE_AE, N_MAX], 1.0), n_true)\n",
    "    n_true = tf.math.reduce_sum(n_true, axis=-1)\n",
    "    n_loss = (n_true - n_pred) * (n_true - n_pred)\n",
    "    n_loss = n_loss * n_loss\n",
    "    reconstruction_loss += n_loss\n",
    "        \n",
    "    return reconstruction_loss"
   ]
  },
  {
   "cell_type": "code",
   "execution_count": 7,
   "metadata": {},
   "outputs": [],
   "source": [
    "def reconstruction_loss_without_sequence_loss(y_true, y_pred):\n",
    "    \"\"\"\n",
    "    Customized reconstruction loss. It ensures that the last graph of the LSTM ouput sequence \n",
    "    has similar propreties as the input graph (same number of nodes, number of edges, \n",
    "    degree distribution).\n",
    "    \"\"\"\n",
    "    \n",
    "    y_pred = K.reshape(y_pred, shape = (BATCH_SIZE_AE, N_MAX, N_MAX, N_MAX))   \n",
    "    reconstruction_loss = tf.fill([BATCH_SIZE_AE, N_MAX], 0.0)\n",
    "    \n",
    "    ## Loss last step\n",
    "    mask_last_step = get_mask(step=N_MAX-1)\n",
    "    y_pred_last_step = y_pred * mask_last_step\n",
    "    \n",
    "    # Ensures that the last graph has the same number of edges than input graph\n",
    "    sum_degrees_loss = tf.math.reduce_sum(y_pred_last_step, axis=[-1,-2])\n",
    "    sum_degrees_loss = tf.math.reduce_sum(sum_degrees_loss, axis=-1)\n",
    "    a_degrees = tf.math.reduce_sum(y_true, axis=[-1,-2])\n",
    "    sum_degrees_loss = (sum_degrees_loss - a_degrees) * (sum_degrees_loss - a_degrees) \n",
    "    sum_degrees_loss = sum_degrees_loss * sum_degrees_loss\n",
    "    reconstruction_loss += sum_degrees_loss\n",
    "     \n",
    "    # Ensures that the last graph has the same edge distribution than input graph\n",
    "    ordered_degrees_pred = tf.math.reduce_sum(y_pred_last_step, axis=-1)\n",
    "    ordered_degrees_pred = tf.math.reduce_sum(ordered_degrees_pred, axis=-2)\n",
    "    ordered_degrees_pred = tf.sort(ordered_degrees_pred,axis=-1)\n",
    "    ordered_degrees_true = tf.math.reduce_sum(y_true, axis=-1)\n",
    "    ordered_degrees_true = tf.sort(ordered_degrees_true,axis=-1)\n",
    "    ordered_degrees_loss = (ordered_degrees_pred-ordered_degrees_true)* \\\n",
    "                            (ordered_degrees_pred-ordered_degrees_true)\n",
    "    ordered_degrees_loss = tf.math.reduce_sum(ordered_degrees_loss, axis=-1)\n",
    "    ordered_degrees_loss = ordered_degrees_loss * ordered_degrees_loss\n",
    "    reconstruction_loss += ordered_degrees_loss\n",
    "    \n",
    "    kl = tf.keras.losses.KLDivergence(reduction=tf.keras.losses.Reduction.NONE)\n",
    "    kl_degree_distribution_loss = tf.math.round(kl(ordered_degrees_true, ordered_degrees_pred))\n",
    "    kl_degree_distribution_loss *= KL_WEIGHT\n",
    "    reconstruction_loss += kl_degree_distribution_loss\n",
    "    \n",
    "    variance_degrees_pred = tf.math.reduce_std(ordered_degrees_pred, axis=1)\n",
    "    variance_degrees_true = tf.math.reduce_std(ordered_degrees_true, axis=1)\n",
    "    variance_degrees_loss = (variance_degrees_pred - variance_degrees_true) * \\\n",
    "                            (variance_degrees_pred - variance_degrees_true)\n",
    "    variance_degrees_loss = variance_degrees_loss * variance_degrees_loss\n",
    "    reconstruction_loss += variance_degrees_loss\n",
    "    \n",
    "    # Ensures that the last graph has the same number of nodes than input graph\n",
    "    binary_last_step = tf.math.round(y_pred_last_step)\n",
    "    n_pred = tf.math.reduce_sum(binary_last_step, axis=-1)\n",
    "    n_pred = tf.math.minimum(tf.fill([BATCH_SIZE_AE, N_MAX, N_MAX], 1.0), n_pred)\n",
    "    n_pred = tf.math.reduce_sum(n_pred, axis=[-1, -2])\n",
    "    n_true = tf.math.reduce_sum(y_true, axis=-1)\n",
    "    n_true = tf.math.minimum(tf.fill([BATCH_SIZE_AE, N_MAX], 1.0), n_true)\n",
    "    n_true = tf.math.reduce_sum(n_true, axis=-1)\n",
    "    n_loss = (n_true - n_pred) * (n_true - n_pred)\n",
    "    n_loss = n_loss * n_loss\n",
    "    reconstruction_loss += n_loss\n",
    "        \n",
    "    return reconstruction_loss"
   ]
  },
  {
   "cell_type": "code",
   "execution_count": 8,
   "metadata": {},
   "outputs": [],
   "source": [
    "def latent_space_loss(y_true, y_pred):\n",
    "    \"\"\"\n",
    "    Make sure that the latent variable are positives. This is not a necessary requirement, but helps \n",
    "    for plotting and could help the network to interpret the latent as model parameters. \n",
    "    \"\"\"\n",
    "         \n",
    "    positive_params_loss = tf.math.maximum(tf.fill([BATCH_SIZE_AE, LATENT_SPACE_SIZE], 0.0), -1*y_pred)\n",
    "    positive_params_loss = tf.math.reduce_sum(positive_params_loss, axis=1)   \n",
    "    \n",
    "    return positive_params_loss"
   ]
  },
  {
   "cell_type": "code",
   "execution_count": 9,
   "metadata": {},
   "outputs": [],
   "source": [
    "def build_ae(X_input_shape, graph_conv_filters_input_shape, num_filters, with_sequence_loss=True):\n",
    "    \"\"\"\n",
    "    Build the GCN encoder and LSTM decoder with customized loss.\n",
    "    \"\"\"\n",
    "        \n",
    "    X_input = Input(shape=X_input_shape)\n",
    "    graph_conv_filters_input = Input(shape=graph_conv_filters_input_shape)\n",
    "\n",
    "    ######## ENCODER #######\n",
    "    \n",
    "    output = MultiGraphCNN(200, num_filters, activation='elu')([X_input, graph_conv_filters_input])\n",
    "    output = Dropout(0.2)(output)\n",
    "    output = MultiGraphCNN(200, num_filters, activation='elu')([output, graph_conv_filters_input])\n",
    "    output = Dropout(0.2)(output)\n",
    "    \n",
    "    # adding a node invariant layer to make sure output does not depends upon the node order in a graph.\n",
    "    output = Lambda(lambda x: K.mean(x, axis=1))(output)  \n",
    "    \n",
    "    output = Dense(256)(output)\n",
    "    output = Dense(128)(output)\n",
    "    output = Dense(64)(output)\n",
    "    output = Dense(32)(output)\n",
    "    output = Dense(16)(output)\n",
    "    output = Dense(4)(output)\n",
    "    z = Dense(LATENT_SPACE_SIZE, activation='relu', name='latent_space')(output)\n",
    "    \n",
    "    ######## DECODER #######\n",
    "    \n",
    "    # From parameters to node embeddings\n",
    "    output = tf.keras.backend.expand_dims(z, axis=2)\n",
    "    output = Conv1DTranspose(filters=N_MAX, kernel_size=2, strides=1)(output)\n",
    "    output = Permute((2, 1))(output)\n",
    "    \n",
    "    # From parameters to graph embeddings    \n",
    "    output = Dense(N_MAX*N_MAX)(output)\n",
    "    \n",
    "    # Sequential modeling\n",
    "    output = LSTM(N_MAX*N_MAX, return_sequences=True, activation='sigmoid', name='lstm')(output)\n",
    "    \n",
    "    \n",
    "    ###### COMPILE ########\n",
    "    \n",
    "    if with_sequence_loss:\n",
    "        losses = {\n",
    "        'lstm': reconstruction_loss_with_sequence_loss,\n",
    "        'latent_space': latent_space_loss,\n",
    "        }\n",
    "        lossWeights = {'lstm': 1.0, 'latent_space': 1.0}\n",
    "    else:\n",
    "        losses = {\n",
    "        'lstm': reconstruction_loss_without_sequence_loss,\n",
    "        'latent_space': latent_space_loss,\n",
    "        }\n",
    "        lossWeights = {'lstm': 1.0, 'latent_space': 1.0}\n",
    "        \n",
    "    model = Model(inputs=[X_input, graph_conv_filters_input], outputs=[output, z])\n",
    "    model.compile(loss=losses, loss_weights=lossWeights, optimizer='adam')\n",
    "    \n",
    "    return model"
   ]
  },
  {
   "cell_type": "code",
   "execution_count": 10,
   "metadata": {},
   "outputs": [],
   "source": [
    "def fit_ae(A, X, with_sequence_loss=True):\n",
    "    \"\"\"\n",
    "    Build the GCN encoder and LSTM decoder and train the network.\n",
    "    \"\"\"\n",
    "    \n",
    "    # build graph_conv_filters\n",
    "    num_filters = 2\n",
    "    graph_conv_filters = preprocess_adj_tensor_with_identity(A, SYM_NORM)\n",
    "    \n",
    "    model = build_ae((X.shape[1], X.shape[2]), \n",
    "                     (graph_conv_filters.shape[1], graph_conv_filters.shape[2]),\n",
    "                     num_filters, with_sequence_loss)\n",
    "    \n",
    "    model.fit([X, graph_conv_filters], A, batch_size=BATCH_SIZE_AE, \\\n",
    "              epochs=NB_EPOCHS_AE, shuffle=True, verbose=0)\n",
    "    \n",
    "    return model"
   ]
  },
  {
   "cell_type": "markdown",
   "metadata": {},
   "source": [
    "### H function"
   ]
  },
  {
   "cell_type": "code",
   "execution_count": 11,
   "metadata": {},
   "outputs": [],
   "source": [
    "def build_h(X_input_shape):\n",
    "    \"\"\"\n",
    "    Build the H function mapping the latent space to the generative parameters.  \n",
    "    \"\"\"\n",
    "    \n",
    "    X_input = Input(shape=X_input_shape)\n",
    "    \n",
    "    ######## Dense Network #######\n",
    "    \n",
    "    output = Dense(8)(X_input)\n",
    "    output = Dense(16)(output)\n",
    "    output = Dense(8)(output)\n",
    "    output = Dense(X_input_shape)(output)\n",
    "       \n",
    "    model = Model(inputs=X_input, outputs=output)\n",
    "    model.compile(loss='mse', optimizer='adam')\n",
    "    \n",
    "    return model"
   ]
  },
  {
   "cell_type": "code",
   "execution_count": 12,
   "metadata": {},
   "outputs": [],
   "source": [
    "def fit_h(X_train, y_train):\n",
    "    \"\"\"\n",
    "    Build and train the H function. \n",
    "    \"\"\"\n",
    "        \n",
    "    model = build_h(X_train.shape[1])\n",
    "    model.fit(X_train, y_train, batch_size=BATCH_SIZE_H, epochs=NB_EPOCHS_H, shuffle=True, verbose=0)\n",
    "    \n",
    "    return model"
   ]
  },
  {
   "cell_type": "code",
   "execution_count": 13,
   "metadata": {},
   "outputs": [],
   "source": [
    "def predict_h(model, X):    \n",
    "    \"\"\"\n",
    "    Predict and round the predictions to integer for the H function.\n",
    "    \"\"\"\n",
    "    \n",
    "    return np.rint(model.predict(X))    "
   ]
  },
  {
   "cell_type": "markdown",
   "metadata": {},
   "source": [
    "### For display"
   ]
  },
  {
   "cell_type": "code",
   "execution_count": 14,
   "metadata": {},
   "outputs": [],
   "source": [
    "def remove_single_nodes(adjacency):\n",
    "    \"\"\"\n",
    "    Take adjacency matrix and remove the single nodes.  \n",
    "    \"\"\"\n",
    "\n",
    "    indices = ~np.all(adjacency == 0, axis=1)\n",
    "    result_adjacency = adjacency[:,indices]\n",
    "    result_adjacency = result_adjacency[indices,:]\n",
    "    \n",
    "    return result_adjacency"
   ]
  },
  {
   "cell_type": "markdown",
   "metadata": {},
   "source": [
    "# Experiments"
   ]
  },
  {
   "cell_type": "markdown",
   "metadata": {},
   "source": [
    "We will divide the experiments into 3: \n",
    "    * Experiments on the Reconstruction Loss\n",
    "    * Experiments on the Latent Space\n",
    "    * Experiments on the Predicted Parameters\n",
    "For each of these experiments we will test 5 scenarios:\n",
    "    * n is constant, m is constant and alpha = 1\n",
    "    * n is constant, m varies and alpha = 1 \n",
    "    * n varies, m is proportional to n and alpha = 1\n",
    "    * n varies, m varies and alpha = 1\n",
    "    * n varies, m varies and alpha varies in [0,1]\n",
    "    \n",
    "In a last experiment we test the need of using a loss on the entire sequence of ouput graphs or just a loss on the last output graph. In this case we only consider scenario 3 (starting from 0). \n",
    "\n",
    "Note that because the customized loss is complex (and surely not convex) the optimizer often struggles to find a good minima and the network fails to output results (the latent space values are all NaNs). Hence, it might be necessary to train the model multiple times before getting results.\n",
    "\n",
    "At the beginning of each experiment you will find the parameters used. The most important \n",
    "variable is TESTED_SCENARIO which should be in {0, 1, 2, 3, 4} and specifies the scenario tested for this experiment. The default settings are such that the code runs in less than 30 min."
   ]
  },
  {
   "cell_type": "code",
   "execution_count": 15,
   "metadata": {},
   "outputs": [],
   "source": [
    "NB_SCENARIOS = 5"
   ]
  },
  {
   "cell_type": "markdown",
   "metadata": {},
   "source": [
    "## Experiment 1: Reconstruction Loss"
   ]
  },
  {
   "cell_type": "markdown",
   "metadata": {},
   "source": [
    "### Experiment parameters"
   ]
  },
  {
   "cell_type": "code",
   "execution_count": 16,
   "metadata": {},
   "outputs": [],
   "source": [
    "## Tested scenario\n",
    "TESTED_SCENARIO = 3\n",
    "\n",
    "## Number of training graphs\n",
    "NB_TRAINING = 100\n",
    "\n",
    "## Modeling assumptions\n",
    "PARAMETER_SPACE_SIZE = 3 # m, n and alpha\n",
    "LATENT_SPACE_SIZE = 3 # Size of the latent space in AE LSTM\n",
    "N_MAX = 10 # Max number of nodes in the generated graphs\n",
    "N_MIN = 3 # Min number of nodes in the generated graphs (must be at least 2)\n",
    "\n",
    "## For AE LSTM\n",
    "SYM_NORM = True # Use symmetric norm for adjacency matrix or not\n",
    "NB_EPOCHS_AE = 150\n",
    "BATCH_SIZE_AE = 1\n",
    "KL_WEIGHT = 10e2 # Normalization constant for the KL divergence used in the reconstruction loss\n",
    "\n",
    "## Seed random number generator\n",
    "SEED = 0\n",
    "np.random.seed(0)\n",
    "tf.random.set_seed(0)\n",
    "seed(SEED)"
   ]
  },
  {
   "cell_type": "markdown",
   "metadata": {},
   "source": [
    "### Compute"
   ]
  },
  {
   "cell_type": "code",
   "execution_count": 17,
   "metadata": {},
   "outputs": [],
   "source": [
    "result_matrix_n = np.zeros((3, NB_TRAINING))\n",
    "result_matrix_nb_edges = np.zeros((2, NB_TRAINING))\n",
    "       \n",
    "# Generate train data\n",
    "A_train, X_train, Y_train = \\\n",
    "    generate_multi_barabasi_graphs(nb_graphs = NB_TRAINING, scenario_type = TESTED_SCENARIO) \n",
    "A_train, X_train, Y_train = format_data(A_train, X_train, Y_train)\n",
    "\n",
    "# Train\n",
    "model = fit_ae(A_train, X_train)\n",
    "\n",
    "for sample_id in range(NB_TRAINING):\n",
    "\n",
    "    A_train_sample = A_train[sample_id:sample_id+1,:,:]\n",
    "    X_train_sample = X_train[sample_id:sample_id+1,:,:]\n",
    "    graph_conv_filters = preprocess_adj_tensor_with_identity(A_train_sample, SYM_NORM)\n",
    "    train = [X_train_sample, graph_conv_filters]\n",
    "    A_pred_sample = model.predict(train)[0]\n",
    "    \n",
    "    last_prediction = A_pred_sample[0, N_MAX-1, :]\n",
    "    last_prediction = np.reshape(last_prediction, (N_MAX, N_MAX))\n",
    "    last_prediction = np.around(last_prediction)\n",
    "    \n",
    "    n1_pred = np.count_nonzero(np.count_nonzero(last_prediction, axis=0))\n",
    "    n2_pred = np.count_nonzero(np.count_nonzero(last_prediction, axis=1))\n",
    "    twice_nb_edges_pred = np.sum(last_prediction)\n",
    "    \n",
    "    n_true = Y_train[sample_id, 0]\n",
    "    m_true = Y_train[sample_id, 1]\n",
    "    twice_nb_edges_true = 2 * (n_true - m_true)*m_true\n",
    "    \n",
    "    result_matrix_n[0, sample_id] = n1_pred\n",
    "    result_matrix_n[1, sample_id] = n2_pred\n",
    "    result_matrix_n[2, sample_id] = n_true\n",
    "    \n",
    "    result_matrix_nb_edges[0, sample_id] = twice_nb_edges_pred\n",
    "    result_matrix_nb_edges[1, sample_id] = twice_nb_edges_true"
   ]
  },
  {
   "cell_type": "markdown",
   "metadata": {},
   "source": [
    "### Display"
   ]
  },
  {
   "cell_type": "code",
   "execution_count": 18,
   "metadata": {},
   "outputs": [
    {
     "name": "stdout",
     "output_type": "stream",
     "text": [
      "\n",
      "Because the reconstructed adjacency matrix might not be symmetric (even if the\n",
      "reconstruction loss is ensuring for this), then we can recover two possible\n",
      "values for the reconstructed n (the number of non-empty rows n1 or the number of\n",
      "non-empty columns n2)\n",
      "\n",
      "mean squared n for reconstructed n1: 2.66\n",
      "mean squared n for reconstructed n2: 5.71\n",
      "mean squared n for reconstructed number of edges: 97.63\n"
     ]
    },
    {
     "data": {
      "image/png": "[encoded data removed]",
      "text/plain": [
       "<Figure size 720x720 with 3 Axes>"
      ]
     },
     "metadata": {
      "needs_background": "light"
     },
     "output_type": "display_data"
    }
   ],
   "source": [
    "fig, axs = plt.subplots(3, figsize=(10, 10))\n",
    "\n",
    "fig.suptitle('Reconstruction loss for n and the number of edges (related to m)')\n",
    "\n",
    "axs[0].set_xlim((N_MIN, N_MAX))\n",
    "axs[0].set_ylim((N_MIN, N_MAX))\n",
    "axs[0].scatter(result_matrix_n[2, :], result_matrix_n[0,:])\n",
    "x = range(N_MIN, N_MAX+1, 1)\n",
    "axs[0].plot(x, x)\n",
    "axs[0].set_xlabel('True n')\n",
    "axs[0].set_ylabel('Predicted n1')\n",
    "\n",
    "print()\n",
    "print('Because the reconstructed adjacency matrix might not be symmetric (even if the')\n",
    "print('reconstruction loss is ensuring for this), then we can recover two possible')\n",
    "print('values for the reconstructed n (the number of non-empty rows n1 or the number of')\n",
    "print('non-empty columns n2)')\n",
    "print()\n",
    "\n",
    "mse = mean_squared_error(result_matrix_n[2, :], result_matrix_n[0,:])\n",
    "print('mean squared n for reconstructed n1: ' + str(mse))\n",
    "\n",
    "axs[1].set_xlim((N_MIN, N_MAX))\n",
    "axs[1].set_ylim((N_MIN, N_MAX))\n",
    "axs[1].scatter(result_matrix_n[2, :], result_matrix_n[1,:])\n",
    "x = range(N_MIN, N_MAX+1, 1)\n",
    "axs[1].plot(x, x)\n",
    "axs[1].set_xlabel('True n')\n",
    "axs[1].set_ylabel('Predicted n2')\n",
    "\n",
    "mse = mean_squared_error(result_matrix_n[2, :], result_matrix_n[1,:])\n",
    "print('mean squared n for reconstructed n2: ' + str(mse))\n",
    "\n",
    "axs[2].scatter(result_matrix_nb_edges[1, :], result_matrix_nb_edges[0,:])\n",
    "axs[2].set_xlabel('True number of edges')\n",
    "axs[2].set_ylabel('Predicted umber of edges')\n",
    "\n",
    "mse = mean_squared_error(result_matrix_nb_edges[1, :], result_matrix_nb_edges[0,:])\n",
    "print('mean squared n for reconstructed number of edges: ' + str(mse))\n",
    "\n",
    "plt.show()"
   ]
  },
  {
   "cell_type": "markdown",
   "metadata": {},
   "source": [
    "## Experiment 2: Latent Space"
   ]
  },
  {
   "cell_type": "markdown",
   "metadata": {},
   "source": [
    "### Experiment parameters"
   ]
  },
  {
   "cell_type": "code",
   "execution_count": 19,
   "metadata": {},
   "outputs": [],
   "source": [
    "## Tested scenario\n",
    "TESTED_SCENARIO = 3\n",
    "\n",
    "## Number of training graphs\n",
    "NB_TRAINING = 200\n",
    "\n",
    "## Modeling assumptions\n",
    "PARAMETER_SPACE_SIZE = 3 # m, n and alpha\n",
    "LATENT_SPACE_SIZE = 3 # Size of the latent space in AE LSTM\n",
    "N_MAX = 10 # Max number of nodes in the generated graphs\n",
    "N_MIN = 3 # Min number of nodes in the generated graphs (must be at least 2)\n",
    "\n",
    "## For AE LSTM\n",
    "SYM_NORM = True # Use symmetric norm for adjacency matrix or not\n",
    "NB_EPOCHS_AE = 150\n",
    "BATCH_SIZE_AE = 1\n",
    "KL_WEIGHT = 10e2 # Normalization constant for the KL divergence used in the reconstruction loss\n",
    "\n",
    "## Seed random number generator\n",
    "SEED = 123\n",
    "np.random.seed(123)\n",
    "tf.random.set_seed(123)\n",
    "seed(SEED)"
   ]
  },
  {
   "cell_type": "markdown",
   "metadata": {},
   "source": [
    "### Compute"
   ]
  },
  {
   "cell_type": "code",
   "execution_count": 20,
   "metadata": {},
   "outputs": [],
   "source": [
    "result_matrix_latent = np.zeros((LATENT_SPACE_SIZE, NB_TRAINING))\n",
    "result_matrix_parameters = np.zeros((PARAMETER_SPACE_SIZE, NB_TRAINING))\n",
    "       \n",
    "# Generate train data\n",
    "A_train, X_train, Y_train = \\\n",
    "    generate_multi_barabasi_graphs(nb_graphs = NB_TRAINING, scenario_type = TESTED_SCENARIO) \n",
    "A_train, X_train, Y_train = format_data(A_train, X_train, Y_train)\n",
    "\n",
    "# Train\n",
    "model = fit_ae(A_train, X_train)\n",
    "\n",
    "# Retrieve latent space values\n",
    "graph_conv_filters = preprocess_adj_tensor_with_identity(A_train, SYM_NORM)\n",
    "train = [X_train, graph_conv_filters]\n",
    "\n",
    "latent_space_layer = Model(inputs=model.input, outputs=model.get_layer('latent_space').output)\n",
    "latent_pred = latent_space_layer.predict(train)\n",
    "\n",
    "# Store result\n",
    "result_matrix_latent = latent_pred.T\n",
    "result_matrix_parameters = Y_train.T"
   ]
  },
  {
   "cell_type": "code",
   "execution_count": 21,
   "metadata": {},
   "outputs": [],
   "source": [
    "# Store latent and paramaters values into CSV files, this is later used \n",
    "# to compute the Mutual Information Gap (MIG) with an other python script. \n",
    "\n",
    "import pandas as pd \n",
    "pd.DataFrame(result_matrix_latent).to_csv('ae_latent_scenario_3.csv')\n",
    "pd.DataFrame(result_matrix_parameters).to_csv('ae_params_scenario_3.csv')"
   ]
  },
  {
   "cell_type": "markdown",
   "metadata": {},
   "source": [
    "### Display"
   ]
  },
  {
   "cell_type": "code",
   "execution_count": 22,
   "metadata": {},
   "outputs": [
    {
     "name": "stderr",
     "output_type": "stream",
     "text": [
      "/home/tristan/anaconda3/lib/python3.8/site-packages/numpy/lib/function_base.py:2534: RuntimeWarning: invalid value encountered in true_divide\n",
      "  c /= stddev[:, None]\n",
      "/home/tristan/anaconda3/lib/python3.8/site-packages/numpy/lib/function_base.py:2535: RuntimeWarning: invalid value encountered in true_divide\n",
      "  c /= stddev[None, :]\n"
     ]
    },
    {
     "name": "stdout",
     "output_type": "stream",
     "text": [
      "\n",
      "Covariance matrix between the latent space and the generative parameters.\n",
      "The rows correspond to Z0, Z1, and Z3. The columns correspond to n, m and alpha respectively.\n",
      "The NaN can be interpreted as 0 correlation.\n",
      "\n",
      "[[-0.9176946  -0.51862442         nan]\n",
      " [ 0.38735697  0.26040438         nan]\n",
      " [ 0.39005757  0.26320596         nan]]\n"
     ]
    },
    {
     "data": {
      "image/png": "[encoded data removed]",
      "text/plain": [
       "<Figure size 1440x1440 with 9 Axes>"
      ]
     },
     "metadata": {
      "needs_background": "light"
     },
     "output_type": "display_data"
    }
   ],
   "source": [
    "fig, axs = plt.subplots(LATENT_SPACE_SIZE, PARAMETER_SPACE_SIZE, figsize=(20, 20))\n",
    "covariance_matrix = np.zeros((LATENT_SPACE_SIZE, PARAMETER_SPACE_SIZE))\n",
    "\n",
    "fig.suptitle('Latent space values for the scenario chosen')\n",
    "for z in range(LATENT_SPACE_SIZE):\n",
    "    for p in range(PARAMETER_SPACE_SIZE):\n",
    "        x = result_matrix_parameters[p, :]\n",
    "        y = result_matrix_latent[z, :]\n",
    "        if np.std(y) != 0:\n",
    "            y = (y - np.mean(y)) / np.std(y)\n",
    "        \n",
    "        covariance_matrix[z, p] = np.corrcoef(y, x)[0, 1]\n",
    "\n",
    "        axs[z, p].scatter(x, y)\n",
    "\n",
    "        if p == 0:\n",
    "            axs[z, p].set_title('z' + str(z) + ' versus n')\n",
    "        if p == 1:\n",
    "            axs[z, p].set_title('z' + str(z) + ' versus m')\n",
    "        if p == 2:\n",
    "            axs[z, p].set_title('z' + str(z) + ' versus alpha')\n",
    "\n",
    "print()\n",
    "print('Covariance matrix between the latent space and the generative parameters.')\n",
    "print('The rows correspond to Z0, Z1, and Z3. The columns correspond to n, m and alpha respectively.')\n",
    "print('The NaN can be interpreted as 0 correlation.')\n",
    "print()\n",
    "print(covariance_matrix)"
   ]
  },
  {
   "cell_type": "markdown",
   "metadata": {},
   "source": [
    "## Experiment 3: Predicted Parameters"
   ]
  },
  {
   "cell_type": "markdown",
   "metadata": {},
   "source": [
    "### Experiment parameters"
   ]
  },
  {
   "cell_type": "code",
   "execution_count": 23,
   "metadata": {},
   "outputs": [],
   "source": [
    "## Tested scenario\n",
    "TESTED_SCENARIO = 3\n",
    "\n",
    "## Number of training graphs\n",
    "NB_TRAINING = 200\n",
    "\n",
    "## Modeling assumptions\n",
    "PARAMETER_SPACE_SIZE = 3 # m, n and alpha\n",
    "LATENT_SPACE_SIZE = 3 # Size of the latent space in AE LSTM\n",
    "N_MAX = 10 # Max number of nodes in the generated graphs\n",
    "N_MIN = 3 # Min number of nodes in the generated graphs (must be at least 2)\n",
    "\n",
    "## For AE LSTM\n",
    "SYM_NORM = True # Use symmetric norm for adjacency matrix or not\n",
    "NB_EPOCHS_AE = 150\n",
    "BATCH_SIZE_AE = 1\n",
    "KL_WEIGHT = 10e2 # Normalization constant for the KL divergence used in the reconstruction loss\n",
    "\n",
    "## For H function\n",
    "NB_EPOCHS_H = 100\n",
    "BATCH_SIZE_H = 1\n",
    "\n",
    "## Seed random number generator\n",
    "SEED = 567\n",
    "np.random.seed(567)\n",
    "tf.random.set_seed(567)\n",
    "seed(SEED)"
   ]
  },
  {
   "cell_type": "markdown",
   "metadata": {},
   "source": [
    "### Compute"
   ]
  },
  {
   "cell_type": "code",
   "execution_count": 24,
   "metadata": {},
   "outputs": [],
   "source": [
    "result_matrix_param_pred = np.zeros((PARAMETER_SPACE_SIZE, NB_TRAINING))\n",
    "result_matrix_param_true = np.zeros((PARAMETER_SPACE_SIZE, NB_TRAINING))\n",
    "\n",
    "# Generate train data\n",
    "A_train, X_train, Y_train = \\\n",
    "    generate_multi_barabasi_graphs(nb_graphs = NB_TRAINING, scenario_type = TESTED_SCENARIO) \n",
    "A_train, X_train, Y_train = format_data(A_train, X_train, Y_train)\n",
    "\n",
    "# Train\n",
    "model = fit_ae(A_train, X_train)\n",
    "\n",
    "# Retrieve latent space values\n",
    "graph_conv_filters = preprocess_adj_tensor_with_identity(A_train, SYM_NORM)\n",
    "train = [X_train, graph_conv_filters]\n",
    "\n",
    "latent_space_layer = Model(inputs=model.input, outputs=model.get_layer('latent_space').output)\n",
    "latent_pred = latent_space_layer.predict(train)\n",
    "\n",
    "# Train H and predict \n",
    "h_X_train = latent_pred\n",
    "h_y_train = Y_train\n",
    "h_model = fit_h(h_X_train, h_y_train)\n",
    "h_prediction = predict_h(h_model, h_X_train)\n",
    "\n",
    "# Store result\n",
    "result_matrix_param_pred = h_prediction.T\n",
    "result_matrix_param_true = Y_train.T"
   ]
  },
  {
   "cell_type": "markdown",
   "metadata": {},
   "source": [
    "### Display"
   ]
  },
  {
   "cell_type": "code",
   "execution_count": 25,
   "metadata": {},
   "outputs": [
    {
     "name": "stdout",
     "output_type": "stream",
     "text": [
      "Result for n: (mse) 0.915 (r2) 0.8074454428754814\n",
      "Result for m: (mse) 2.635 (r2) 0.3366730440036251\n",
      "Result for alpha: (mse) 0.0 (r2) 1.0\n",
      "\n",
      "Covariance vector between the true parameters and the predicted parameters\n",
      "for n, m and alpha respectively.\n",
      "\n",
      "[0.90445539 0.58342542        nan]\n"
     ]
    },
    {
     "name": "stderr",
     "output_type": "stream",
     "text": [
      "/home/tristan/anaconda3/lib/python3.8/site-packages/numpy/lib/function_base.py:2534: RuntimeWarning: invalid value encountered in true_divide\n",
      "  c /= stddev[:, None]\n"
     ]
    },
    {
     "data": {
      "image/png": "[encoded data removed]",
      "text/plain": [
       "<Figure size 1440x1440 with 3 Axes>"
      ]
     },
     "metadata": {
      "needs_background": "light"
     },
     "output_type": "display_data"
    }
   ],
   "source": [
    "fig, axs = plt.subplots(PARAMETER_SPACE_SIZE, figsize=(20, 20))\n",
    "covariance_vector = np.zeros((PARAMETER_SPACE_SIZE))\n",
    "\n",
    "fig.suptitle('Parameter predictions for the chosen scenario')\n",
    "for p in range(PARAMETER_SPACE_SIZE):\n",
    "\n",
    "    x = result_matrix_param_true[p, :]\n",
    "    y = result_matrix_param_pred[p, :]\n",
    "    mse = mean_squared_error(x, y)\n",
    "    r_squared = r2_score(x, y)\n",
    "    \n",
    "    covariance_vector[p] = np.corrcoef(y, x)[0, 1]\n",
    "\n",
    "    axs[p].scatter(x, y)\n",
    "    axs[p].plot(x, x)\n",
    "\n",
    "    if p == 0:\n",
    "        axs[p].set_title('Pred versus True for n')\n",
    "        print('Result for n: ' +\n",
    "              '(mse) ' + str(mse) + ' (r2) ' + str(r_squared))\n",
    "    if p == 1:\n",
    "        axs[p].set_title('Pred versus True for m')\n",
    "        print('Result for m: ' +\n",
    "              '(mse) ' + str(mse) + ' (r2) ' + str(r_squared))\n",
    "    if p == 2:\n",
    "        axs[p].set_title('Pred versus True for alpha')\n",
    "        print('Result for alpha: ' +\n",
    "              '(mse) ' + str(mse) + ' (r2) ' + str(r_squared))\n",
    "\n",
    "print()\n",
    "print('Covariance vector between the true parameters and the predicted parameters')\n",
    "print('for n, m and alpha respectively.')\n",
    "print()\n",
    "print(covariance_vector)"
   ]
  },
  {
   "cell_type": "markdown",
   "metadata": {},
   "source": [
    "## Experiment 4: Loss function"
   ]
  },
  {
   "cell_type": "markdown",
   "metadata": {},
   "source": [
    "### Experiment parameters"
   ]
  },
  {
   "cell_type": "code",
   "execution_count": 26,
   "metadata": {},
   "outputs": [],
   "source": [
    "## Tested scenario\n",
    "TESTED_SCENARIO = 3\n",
    "\n",
    "## Number of training graphs\n",
    "NB_TRAINING = 200\n",
    "\n",
    "## Modeling assumptions\n",
    "PARAMETER_SPACE_SIZE = 3 # m, n and alpha\n",
    "LATENT_SPACE_SIZE = 3 # Size of the latent space in AE LSTM\n",
    "N_MAX = 10 # Max number of nodes in the generated graphs\n",
    "N_MIN = 3 # Min number of nodes in the generated graphs (must be at least 2)\n",
    "\n",
    "## For AE LSTM\n",
    "SYM_NORM = True # Use symmetric norm for adjacency matrix or not\n",
    "NB_EPOCHS_AE = 150\n",
    "BATCH_SIZE_AE = 1\n",
    "KL_WEIGHT = 10e2 # Normalization constant for the KL divergence used in the reconstruction loss\n",
    "\n",
    "## For H function\n",
    "NB_EPOCHS_H = 100\n",
    "BATCH_SIZE_H = 1\n",
    "\n",
    "## Seed random number generator\n",
    "SEED = 567\n",
    "np.random.seed(567)\n",
    "tf.random.set_seed(567)\n",
    "seed(SEED)"
   ]
  },
  {
   "cell_type": "markdown",
   "metadata": {},
   "source": [
    "### Compute"
   ]
  },
  {
   "cell_type": "code",
   "execution_count": 27,
   "metadata": {},
   "outputs": [],
   "source": [
    "result_matrix_param_pred = np.zeros((2, PARAMETER_SPACE_SIZE, NB_TRAINING))\n",
    "result_matrix_param_true = np.zeros((2, PARAMETER_SPACE_SIZE, NB_TRAINING))\n",
    "\n",
    "for i in range(2):\n",
    "    \n",
    "    # Generate train data\n",
    "    A_train, X_train, Y_train = \\\n",
    "        generate_multi_barabasi_graphs(nb_graphs = NB_TRAINING, scenario_type = TESTED_SCENARIO) \n",
    "    A_train, X_train, Y_train = format_data(A_train, X_train, Y_train)\n",
    "\n",
    "    # Train\n",
    "    if i == 0:\n",
    "        model = fit_ae(A_train, X_train, with_sequence_loss=True)\n",
    "    else:\n",
    "        model = fit_ae(A_train, X_train, with_sequence_loss=False)\n",
    "    \n",
    "    # Retrieve latent space values\n",
    "    graph_conv_filters = preprocess_adj_tensor_with_identity(A_train, SYM_NORM)\n",
    "    train = [X_train, graph_conv_filters]\n",
    "\n",
    "    latent_space_layer = Model(inputs=model.input, outputs=model.get_layer('latent_space').output)\n",
    "    latent_pred = latent_space_layer.predict(train)\n",
    "\n",
    "    # Train H and predict \n",
    "    h_X_train = latent_pred\n",
    "    h_y_train = Y_train\n",
    "    h_model = fit_h(h_X_train, h_y_train)\n",
    "    h_prediction = predict_h(h_model, h_X_train)\n",
    "\n",
    "    # Store result\n",
    "    result_matrix_param_pred[i, :, :] = h_prediction.T\n",
    "    result_matrix_param_true[i, :, :] = Y_train.T"
   ]
  },
  {
   "cell_type": "markdown",
   "metadata": {},
   "source": [
    "### Display"
   ]
  },
  {
   "cell_type": "code",
   "execution_count": 28,
   "metadata": {},
   "outputs": [
    {
     "name": "stdout",
     "output_type": "stream",
     "text": [
      "\n",
      "By using a sequencial loss:\n",
      "Result for n: (mse) 0.915 (r2) 0.8074454428754814\n",
      "Result for m: (mse) 2.635 (r2) 0.3366730440036251\n",
      "Result for alpha: (mse) 0.0 (r2) 1.0\n",
      "\n",
      "By using a non-sequencial loss:\n",
      "Result for n: (mse) 4.98 (r2) -0.00654862963861258\n",
      "Result for m: (mse) 3.895 (r2) -0.016977917610428328\n",
      "Result for alpha: (mse) 0.0 (r2) 1.0\n"
     ]
    },
    {
     "data": {
      "image/png": "[encoded data removed]",
      "text/plain": [
       "<Figure size 1440x1440 with 6 Axes>"
      ]
     },
     "metadata": {
      "needs_background": "light"
     },
     "output_type": "display_data"
    }
   ],
   "source": [
    "fig, axs = plt.subplots(2, PARAMETER_SPACE_SIZE, figsize=(20, 20))\n",
    "\n",
    "fig.suptitle('Parameter predictions with or without sequence loss')\n",
    "for i in range(2):\n",
    "    \n",
    "    if i == 0:\n",
    "        print()\n",
    "        print('By using a sequencial loss:')\n",
    "    if i == 1:\n",
    "        print()\n",
    "        print('By using a non-sequencial loss:')\n",
    "        \n",
    "    for p in range(PARAMETER_SPACE_SIZE):\n",
    "        \n",
    "        x = result_matrix_param_true[i, p, :]\n",
    "        y = result_matrix_param_pred[i, p, :]\n",
    "        mse = mean_squared_error(x, y)\n",
    "        r_squared = r2_score(x, y)\n",
    "        \n",
    "        axs[i, p].scatter(x, y)\n",
    "                \n",
    "        if p == 0:\n",
    "            axs[i, p].set_title('Pred versus True for n')\n",
    "            print('Result for n: ' +\n",
    "                  '(mse) ' + str(mse) + ' (r2) ' + str(r_squared))\n",
    "        if p == 1:\n",
    "            axs[i, p].set_title('Pred versus True for m')\n",
    "            print('Result for m: ' +\n",
    "                  '(mse) ' + str(mse) + ' (r2) ' + str(r_squared))\n",
    "        if p == 2:\n",
    "            axs[i, p].set_title('Pred versus True for alpha')\n",
    "            print('Result for alpha: ' +\n",
    "                  '(mse) ' + str(mse) + ' (r2) ' + str(r_squared))"
   ]
  },
  {
   "cell_type": "markdown",
   "metadata": {},
   "source": [
    "# Some additional visualizations"
   ]
  },
  {
   "cell_type": "markdown",
   "metadata": {},
   "source": [
    "### Visualization parameters"
   ]
  },
  {
   "cell_type": "code",
   "execution_count": 29,
   "metadata": {},
   "outputs": [],
   "source": [
    "## Scenario to be tested\n",
    "SCENARIO_TYPE = 2\n",
    "\n",
    "## Number of training graphs\n",
    "NB_TRAINING = 30\n",
    "\n",
    "## Modeling assumptions\n",
    "PARAMETER_SPACE_SIZE = 3 # m, n and alpha\n",
    "LATENT_SPACE_SIZE = 3 # Size of the latent space in AE LSTM\n",
    "N_MAX = 5 # Max number of nodes in the generated graphs\n",
    "N_MIN = 5 # Min number of nodes in the generated graphs (must be at least 2)\n",
    "\n",
    "## For AE LSTM\n",
    "SYM_NORM = True # Use symmetric norm for adjacency matrix or not\n",
    "NB_EPOCHS_AE = 200\n",
    "BATCH_SIZE_AE = 1\n",
    "KL_WEIGHT = 10e2 # Normalization constant for the KL divergence used in the reconstruction loss\n",
    "\n",
    "## Seed random number generator\n",
    "SEED = 345\n",
    "np.random.seed(345)\n",
    "tf.random.set_seed(345)\n",
    "seed(SEED)"
   ]
  },
  {
   "cell_type": "markdown",
   "metadata": {},
   "source": [
    "## Training AE LSTM"
   ]
  },
  {
   "cell_type": "markdown",
   "metadata": {},
   "source": [
    "### Generate training data"
   ]
  },
  {
   "cell_type": "code",
   "execution_count": 30,
   "metadata": {},
   "outputs": [],
   "source": [
    "# Generate train data\n",
    "adjacency_matrices_train, feature_matrices_train, parameter_vectors_train = \\\n",
    "    generate_multi_barabasi_graphs(nb_graphs = NB_TRAINING, scenario_type = SCENARIO_TYPE)"
   ]
  },
  {
   "cell_type": "markdown",
   "metadata": {},
   "source": [
    "### Train network"
   ]
  },
  {
   "cell_type": "code",
   "execution_count": 31,
   "metadata": {},
   "outputs": [],
   "source": [
    "# Load Train data\n",
    "A_train, X_train, Y_train = \\\n",
    "    format_data(adjacency_matrices_train, feature_matrices_train, parameter_vectors_train)\n",
    "\n",
    "# Train\n",
    "model = fit_ae(A_train, X_train)"
   ]
  },
  {
   "cell_type": "markdown",
   "metadata": {},
   "source": [
    "## Visualize the reconstruction graphs"
   ]
  },
  {
   "cell_type": "code",
   "execution_count": 32,
   "metadata": {},
   "outputs": [],
   "source": [
    "# Pick some trinaing graph\n",
    "graph_id = 2"
   ]
  },
  {
   "cell_type": "markdown",
   "metadata": {},
   "source": [
    "## Example sample original graph"
   ]
  },
  {
   "cell_type": "code",
   "execution_count": 33,
   "metadata": {},
   "outputs": [
    {
     "data": {
      "text/plain": [
       "array([[0., 1., 1., 1., 0.],\n",
       "       [1., 0., 0., 0., 0.],\n",
       "       [1., 0., 0., 0., 1.],\n",
       "       [1., 0., 0., 0., 0.],\n",
       "       [0., 0., 1., 0., 0.]])"
      ]
     },
     "execution_count": 33,
     "metadata": {},
     "output_type": "execute_result"
    }
   ],
   "source": [
    "original_adjacency = A_train[graph_id,:,:]\n",
    "original_adjacency"
   ]
  },
  {
   "cell_type": "markdown",
   "metadata": {},
   "source": [
    "## Example reconstruction graph sequence"
   ]
  },
  {
   "cell_type": "code",
   "execution_count": 34,
   "metadata": {
    "scrolled": false
   },
   "outputs": [
    {
     "data": {
      "text/plain": [
       "array([[[0., 0., 0., 0., 0.],\n",
       "        [0., 0., 0., 0., 0.],\n",
       "        [0., 0., 0., 0., 0.],\n",
       "        [0., 0., 0., 0., 0.],\n",
       "        [0., 0., 0., 0., 0.]],\n",
       "\n",
       "       [[0., 0., 0., 0., 0.],\n",
       "        [0., 0., 0., 0., 0.],\n",
       "        [0., 0., 0., 0., 0.],\n",
       "        [0., 0., 0., 0., 0.],\n",
       "        [0., 0., 0., 0., 0.]],\n",
       "\n",
       "       [[0., 0., 0., 0., 0.],\n",
       "        [0., 0., 0., 0., 0.],\n",
       "        [0., 0., 0., 0., 0.],\n",
       "        [0., 0., 0., 0., 0.],\n",
       "        [0., 0., 0., 0., 0.]],\n",
       "\n",
       "       [[0., 0., 0., 0., 0.],\n",
       "        [0., 0., 0., 0., 0.],\n",
       "        [0., 0., 0., 0., 0.],\n",
       "        [0., 0., 0., 0., 0.],\n",
       "        [0., 0., 0., 0., 0.]],\n",
       "\n",
       "       [[0., 0., 0., 1., 0.],\n",
       "        [0., 0., 0., 1., 0.],\n",
       "        [0., 0., 0., 1., 0.],\n",
       "        [1., 1., 1., 0., 1.],\n",
       "        [0., 0., 0., 1., 0.]]], dtype=float32)"
      ]
     },
     "execution_count": 34,
     "metadata": {},
     "output_type": "execute_result"
    }
   ],
   "source": [
    "# Predictions on train\n",
    "graph_conv_filters = preprocess_adj_tensor_with_identity(A_train[graph_id:graph_id+1,:,:], SYM_NORM)\n",
    "result_adjacency_matrices = np.rint(model.predict([X_train[graph_id:graph_id+1,:, :], graph_conv_filters])[0])\n",
    "result_adjacency_matrices = result_adjacency_matrices.reshape((N_MAX, N_MAX, N_MAX))\n",
    "result_adjacency_matrices"
   ]
  },
  {
   "cell_type": "markdown",
   "metadata": {},
   "source": [
    "## Example plotting reconstruction graph sequence"
   ]
  },
  {
   "cell_type": "code",
   "execution_count": 35,
   "metadata": {},
   "outputs": [
    {
     "data": {
      "image/png": "[encoded data removed]",
      "text/plain": [
       "<Figure size 432x288 with 1 Axes>"
      ]
     },
     "metadata": {},
     "output_type": "display_data"
    }
   ],
   "source": [
    "# Plot the original graph\n",
    "\n",
    "G = nx.from_numpy_matrix(remove_single_nodes(original_adjacency))\n",
    "nx.draw_networkx(G)\n",
    "\n",
    "# Set margins for the axes so that nodes aren't clipped\n",
    "ax = plt.gca()\n",
    "ax.margins(0.20)\n",
    "plt.axis(\"off\")\n",
    "plt.show()"
   ]
  },
  {
   "cell_type": "code",
   "execution_count": 36,
   "metadata": {},
   "outputs": [
    {
     "data": {
      "image/png": "[encoded data removed]",
      "text/plain": [
       "<Figure size 432x288 with 1 Axes>"
      ]
     },
     "metadata": {},
     "output_type": "display_data"
    },
    {
     "data": {
      "image/png": "[encoded data removed]",
      "text/plain": [
       "<Figure size 432x288 with 1 Axes>"
      ]
     },
     "metadata": {},
     "output_type": "display_data"
    },
    {
     "data": {
      "image/png": "[encoded data removed]",
      "text/plain": [
       "<Figure size 432x288 with 1 Axes>"
      ]
     },
     "metadata": {},
     "output_type": "display_data"
    },
    {
     "data": {
      "image/png": "[encoded data removed]",
      "text/plain": [
       "<Figure size 432x288 with 1 Axes>"
      ]
     },
     "metadata": {},
     "output_type": "display_data"
    },
    {
     "data": {
      "image/png": "[encoded data removed]",
      "text/plain": [
       "<Figure size 432x288 with 1 Axes>"
      ]
     },
     "metadata": {},
     "output_type": "display_data"
    }
   ],
   "source": [
    "# Plot the resulting graphs\n",
    "\n",
    "for ajacency_matrix in result_adjacency_matrices:\n",
    "    G = nx.from_numpy_matrix(remove_single_nodes(ajacency_matrix))\n",
    "    nx.draw_networkx(G)\n",
    "\n",
    "    # Set margins for the axes so that nodes aren't clipped\n",
    "    ax = plt.gca()\n",
    "    ax.margins(0.20)\n",
    "    plt.axis(\"off\")\n",
    "    plt.show()"
   ]
  }
 ],
 "metadata": {
  "kernelspec": {
   "display_name": "Python 3",
   "language": "python",
   "name": "python3"
  },
  "language_info": {
   "codemirror_mode": {
    "name": "ipython",
    "version": 3
   },
   "file_extension": ".py",
   "mimetype": "text/x-python",
   "name": "python",
   "nbconvert_exporter": "python",
   "pygments_lexer": "ipython3",
   "version": "3.8.3"
  }
 },
 "nbformat": 4,
 "nbformat_minor": 4
}
