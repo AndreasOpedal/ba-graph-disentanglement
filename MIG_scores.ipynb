{
 "cells": [
  {
   "cell_type": "code",
   "execution_count": 1,
   "metadata": {
    "ExecuteTime": {
     "end_time": "2021-01-05T17:34:16.693291Z",
     "start_time": "2021-01-05T17:34:14.772565Z"
    }
   },
   "outputs": [],
   "source": [
    "from mig import MIG\n",
    "import pandas as pd\n",
    "import numpy as np"
   ]
  },
  {
   "cell_type": "markdown",
   "metadata": {},
   "source": [
    "## LSTM"
   ]
  },
  {
   "cell_type": "markdown",
   "metadata": {},
   "source": [
    "### Linear BA m"
   ]
  },
  {
   "cell_type": "code",
   "execution_count": 14,
   "metadata": {
    "ExecuteTime": {
     "end_time": "2021-01-05T18:09:12.703748Z",
     "start_time": "2021-01-05T18:09:12.648485Z"
    }
   },
   "outputs": [
    {
     "data": {
      "text/html": [
       "<div>\n",
       "<style scoped>\n",
       "    .dataframe tbody tr th:only-of-type {\n",
       "        vertical-align: middle;\n",
       "    }\n",
       "\n",
       "    .dataframe tbody tr th {\n",
       "        vertical-align: top;\n",
       "    }\n",
       "\n",
       "    .dataframe thead th {\n",
       "        text-align: right;\n",
       "    }\n",
       "</style>\n",
       "<table border=\"1\" class=\"dataframe\">\n",
       "  <thead>\n",
       "    <tr style=\"text-align: right;\">\n",
       "      <th></th>\n",
       "      <th>0</th>\n",
       "      <th>1</th>\n",
       "      <th>2</th>\n",
       "      <th>3</th>\n",
       "      <th>4</th>\n",
       "      <th>5</th>\n",
       "      <th>6</th>\n",
       "      <th>7</th>\n",
       "      <th>8</th>\n",
       "      <th>9</th>\n",
       "      <th>...</th>\n",
       "      <th>190</th>\n",
       "      <th>191</th>\n",
       "      <th>192</th>\n",
       "      <th>193</th>\n",
       "      <th>194</th>\n",
       "      <th>195</th>\n",
       "      <th>196</th>\n",
       "      <th>197</th>\n",
       "      <th>198</th>\n",
       "      <th>199</th>\n",
       "    </tr>\n",
       "  </thead>\n",
       "  <tbody>\n",
       "    <tr>\n",
       "      <th>0</th>\n",
       "      <td>-0.598955</td>\n",
       "      <td>-0.806814</td>\n",
       "      <td>1.518124</td>\n",
       "      <td>1.073263</td>\n",
       "      <td>-0.789962</td>\n",
       "      <td>-1.571995</td>\n",
       "      <td>0.785124</td>\n",
       "      <td>-1.503613</td>\n",
       "      <td>0.424778</td>\n",
       "      <td>-0.799481</td>\n",
       "      <td>...</td>\n",
       "      <td>0.440538</td>\n",
       "      <td>-0.717760</td>\n",
       "      <td>-2.710367</td>\n",
       "      <td>-0.846979</td>\n",
       "      <td>0.314923</td>\n",
       "      <td>-1.396957</td>\n",
       "      <td>1.172346</td>\n",
       "      <td>-1.389031</td>\n",
       "      <td>1.121538</td>\n",
       "      <td>-1.889559</td>\n",
       "    </tr>\n",
       "    <tr>\n",
       "      <th>1</th>\n",
       "      <td>0.286188</td>\n",
       "      <td>-0.068022</td>\n",
       "      <td>-0.595867</td>\n",
       "      <td>0.329084</td>\n",
       "      <td>-0.427043</td>\n",
       "      <td>2.186117</td>\n",
       "      <td>0.039445</td>\n",
       "      <td>-0.576465</td>\n",
       "      <td>0.994669</td>\n",
       "      <td>-1.146221</td>\n",
       "      <td>...</td>\n",
       "      <td>0.634108</td>\n",
       "      <td>0.242836</td>\n",
       "      <td>-0.753537</td>\n",
       "      <td>-0.933799</td>\n",
       "      <td>-0.499300</td>\n",
       "      <td>0.052821</td>\n",
       "      <td>-1.235559</td>\n",
       "      <td>0.077060</td>\n",
       "      <td>0.330694</td>\n",
       "      <td>-0.298524</td>\n",
       "    </tr>\n",
       "    <tr>\n",
       "      <th>2</th>\n",
       "      <td>-0.186810</td>\n",
       "      <td>-0.438212</td>\n",
       "      <td>0.745647</td>\n",
       "      <td>-0.330436</td>\n",
       "      <td>-2.416354</td>\n",
       "      <td>2.024314</td>\n",
       "      <td>1.568221</td>\n",
       "      <td>0.120011</td>\n",
       "      <td>0.936649</td>\n",
       "      <td>0.729429</td>\n",
       "      <td>...</td>\n",
       "      <td>-3.316480</td>\n",
       "      <td>-1.067274</td>\n",
       "      <td>1.183420</td>\n",
       "      <td>1.328951</td>\n",
       "      <td>2.248298</td>\n",
       "      <td>-1.134372</td>\n",
       "      <td>-0.128524</td>\n",
       "      <td>0.520403</td>\n",
       "      <td>0.205554</td>\n",
       "      <td>1.001499</td>\n",
       "    </tr>\n",
       "  </tbody>\n",
       "</table>\n",
       "<p>3 rows × 200 columns</p>\n",
       "</div>"
      ],
      "text/plain": [
       "          0         1         2         3         4         5         6  \\\n",
       "0 -0.598955 -0.806814  1.518124  1.073263 -0.789962 -1.571995  0.785124   \n",
       "1  0.286188 -0.068022 -0.595867  0.329084 -0.427043  2.186117  0.039445   \n",
       "2 -0.186810 -0.438212  0.745647 -0.330436 -2.416354  2.024314  1.568221   \n",
       "\n",
       "          7         8         9  ...       190       191       192       193  \\\n",
       "0 -1.503613  0.424778 -0.799481  ...  0.440538 -0.717760 -2.710367 -0.846979   \n",
       "1 -0.576465  0.994669 -1.146221  ...  0.634108  0.242836 -0.753537 -0.933799   \n",
       "2  0.120011  0.936649  0.729429  ... -3.316480 -1.067274  1.183420  1.328951   \n",
       "\n",
       "        194       195       196       197       198       199  \n",
       "0  0.314923 -1.396957  1.172346 -1.389031  1.121538 -1.889559  \n",
       "1 -0.499300  0.052821 -1.235559  0.077060  0.330694 -0.298524  \n",
       "2  2.248298 -1.134372 -0.128524  0.520403  0.205554  1.001499  \n",
       "\n",
       "[3 rows x 200 columns]"
      ]
     },
     "execution_count": 14,
     "metadata": {},
     "output_type": "execute_result"
    }
   ],
   "source": [
    "zlstm = pd.read_csv(\"data/vae_latent_scenario_3.csv\", index_col=0)\n",
    "vlstm = pd.read_csv(\"data/vae_params_scenario_3.csv\", index_col=0)\n",
    "zlstm.head()"
   ]
  },
  {
   "cell_type": "code",
   "execution_count": 15,
   "metadata": {
    "ExecuteTime": {
     "end_time": "2021-01-05T18:09:13.196360Z",
     "start_time": "2021-01-05T18:09:13.164844Z"
    }
   },
   "outputs": [
    {
     "data": {
      "text/html": [
       "<div>\n",
       "<style scoped>\n",
       "    .dataframe tbody tr th:only-of-type {\n",
       "        vertical-align: middle;\n",
       "    }\n",
       "\n",
       "    .dataframe tbody tr th {\n",
       "        vertical-align: top;\n",
       "    }\n",
       "\n",
       "    .dataframe thead th {\n",
       "        text-align: right;\n",
       "    }\n",
       "</style>\n",
       "<table border=\"1\" class=\"dataframe\">\n",
       "  <thead>\n",
       "    <tr style=\"text-align: right;\">\n",
       "      <th></th>\n",
       "      <th>0</th>\n",
       "      <th>1</th>\n",
       "      <th>2</th>\n",
       "      <th>3</th>\n",
       "      <th>4</th>\n",
       "      <th>5</th>\n",
       "      <th>6</th>\n",
       "      <th>7</th>\n",
       "      <th>8</th>\n",
       "      <th>9</th>\n",
       "      <th>...</th>\n",
       "      <th>190</th>\n",
       "      <th>191</th>\n",
       "      <th>192</th>\n",
       "      <th>193</th>\n",
       "      <th>194</th>\n",
       "      <th>195</th>\n",
       "      <th>196</th>\n",
       "      <th>197</th>\n",
       "      <th>198</th>\n",
       "      <th>199</th>\n",
       "    </tr>\n",
       "  </thead>\n",
       "  <tbody>\n",
       "    <tr>\n",
       "      <th>0</th>\n",
       "      <td>7.0</td>\n",
       "      <td>9.0</td>\n",
       "      <td>3.0</td>\n",
       "      <td>5.0</td>\n",
       "      <td>8.0</td>\n",
       "      <td>9.0</td>\n",
       "      <td>5.0</td>\n",
       "      <td>10.0</td>\n",
       "      <td>5.0</td>\n",
       "      <td>7.0</td>\n",
       "      <td>...</td>\n",
       "      <td>6.0</td>\n",
       "      <td>8.0</td>\n",
       "      <td>9.0</td>\n",
       "      <td>7.0</td>\n",
       "      <td>5.0</td>\n",
       "      <td>8.0</td>\n",
       "      <td>3.0</td>\n",
       "      <td>8.0</td>\n",
       "      <td>4.0</td>\n",
       "      <td>10.0</td>\n",
       "    </tr>\n",
       "    <tr>\n",
       "      <th>1</th>\n",
       "      <td>4.0</td>\n",
       "      <td>8.0</td>\n",
       "      <td>2.0</td>\n",
       "      <td>2.0</td>\n",
       "      <td>7.0</td>\n",
       "      <td>8.0</td>\n",
       "      <td>1.0</td>\n",
       "      <td>8.0</td>\n",
       "      <td>3.0</td>\n",
       "      <td>1.0</td>\n",
       "      <td>...</td>\n",
       "      <td>1.0</td>\n",
       "      <td>7.0</td>\n",
       "      <td>2.0</td>\n",
       "      <td>1.0</td>\n",
       "      <td>3.0</td>\n",
       "      <td>6.0</td>\n",
       "      <td>1.0</td>\n",
       "      <td>7.0</td>\n",
       "      <td>3.0</td>\n",
       "      <td>4.0</td>\n",
       "    </tr>\n",
       "    <tr>\n",
       "      <th>2</th>\n",
       "      <td>1.0</td>\n",
       "      <td>1.0</td>\n",
       "      <td>1.0</td>\n",
       "      <td>1.0</td>\n",
       "      <td>1.0</td>\n",
       "      <td>1.0</td>\n",
       "      <td>1.0</td>\n",
       "      <td>1.0</td>\n",
       "      <td>1.0</td>\n",
       "      <td>1.0</td>\n",
       "      <td>...</td>\n",
       "      <td>1.0</td>\n",
       "      <td>1.0</td>\n",
       "      <td>1.0</td>\n",
       "      <td>1.0</td>\n",
       "      <td>1.0</td>\n",
       "      <td>1.0</td>\n",
       "      <td>1.0</td>\n",
       "      <td>1.0</td>\n",
       "      <td>1.0</td>\n",
       "      <td>1.0</td>\n",
       "    </tr>\n",
       "  </tbody>\n",
       "</table>\n",
       "<p>3 rows × 200 columns</p>\n",
       "</div>"
      ],
      "text/plain": [
       "     0    1    2    3    4    5    6     7    8    9  ...  190  191  192  193  \\\n",
       "0  7.0  9.0  3.0  5.0  8.0  9.0  5.0  10.0  5.0  7.0  ...  6.0  8.0  9.0  7.0   \n",
       "1  4.0  8.0  2.0  2.0  7.0  8.0  1.0   8.0  3.0  1.0  ...  1.0  7.0  2.0  1.0   \n",
       "2  1.0  1.0  1.0  1.0  1.0  1.0  1.0   1.0  1.0  1.0  ...  1.0  1.0  1.0  1.0   \n",
       "\n",
       "   194  195  196  197  198   199  \n",
       "0  5.0  8.0  3.0  8.0  4.0  10.0  \n",
       "1  3.0  6.0  1.0  7.0  3.0   4.0  \n",
       "2  1.0  1.0  1.0  1.0  1.0   1.0  \n",
       "\n",
       "[3 rows x 200 columns]"
      ]
     },
     "execution_count": 15,
     "metadata": {},
     "output_type": "execute_result"
    }
   ],
   "source": [
    "vlstm.head()"
   ]
  },
  {
   "cell_type": "markdown",
   "metadata": {},
   "source": [
    "Third row in `vlstm` corresponds to the $\\alpha$ values. Since we are in the linear case, $\\alpha$ is always 1. We cannot compute the MIG score considering $\\alpha$ in this case, since it does not vary and hence the entropy is zero. Therefore, we remove it from our data."
   ]
  },
  {
   "cell_type": "code",
   "execution_count": 16,
   "metadata": {
    "ExecuteTime": {
     "end_time": "2021-01-05T18:09:14.580500Z",
     "start_time": "2021-01-05T18:09:14.574496Z"
    }
   },
   "outputs": [],
   "source": [
    "vlstm = vlstm.drop([2])"
   ]
  },
  {
   "cell_type": "code",
   "execution_count": 17,
   "metadata": {
    "ExecuteTime": {
     "end_time": "2021-01-05T18:09:15.122655Z",
     "start_time": "2021-01-05T18:09:15.095023Z"
    }
   },
   "outputs": [
    {
     "name": "stderr",
     "output_type": "stream",
     "text": [
      "C:\\Users\\Alacrity\\Documents\\GitHub\\graphDisentanglement\\submission\\mig.py:29: FutureWarning: Support for multi-dimensional indexing (e.g. `obj[:, None]`) is deprecated and will be removed in a future version.  Convert to a numpy array before indexing instead.\n",
      "  return (data - mean[:, np.newaxis]) / stddev[:, np.newaxis], mean, stddev\n"
     ]
    },
    {
     "data": {
      "text/plain": [
       "0.25920836177437057"
      ]
     },
     "execution_count": 17,
     "metadata": {},
     "output_type": "execute_result"
    }
   ],
   "source": [
    "vlstm_array = vlstm.to_numpy()\n",
    "MIG(zlstm, vlstm_array).compute_mig()"
   ]
  },
  {
   "cell_type": "markdown",
   "metadata": {},
   "source": [
    "### Linear BA m/n"
   ]
  },
  {
   "cell_type": "code",
   "execution_count": 18,
   "metadata": {
    "ExecuteTime": {
     "end_time": "2021-01-05T18:09:17.576756Z",
     "start_time": "2021-01-05T18:09:17.539921Z"
    }
   },
   "outputs": [
    {
     "name": "stderr",
     "output_type": "stream",
     "text": [
      "C:\\Users\\Alacrity\\Documents\\GitHub\\graphDisentanglement\\submission\\mig.py:29: FutureWarning: Support for multi-dimensional indexing (e.g. `obj[:, None]`) is deprecated and will be removed in a future version.  Convert to a numpy array before indexing instead.\n",
      "  return (data - mean[:, np.newaxis]) / stddev[:, np.newaxis], mean, stddev\n"
     ]
    },
    {
     "data": {
      "text/plain": [
       "0.2851049639682969"
      ]
     },
     "execution_count": 18,
     "metadata": {},
     "output_type": "execute_result"
    }
   ],
   "source": [
    "#Define m/n and add it to our array\n",
    "vlstm = vlstm.append(vlstm.apply(lambda x: x[1] / x[0], axis=0), ignore_index=True)\n",
    "#remove m\n",
    "vlstm = vlstm.drop([1])\n",
    "vlstm_array = vlstm.to_numpy()\n",
    "MIG(zlstm, vlstm_array).compute_mig()"
   ]
  },
  {
   "cell_type": "markdown",
   "metadata": {},
   "source": [
    "### Non-linear BA"
   ]
  },
  {
   "cell_type": "code",
   "execution_count": 20,
   "metadata": {
    "ExecuteTime": {
     "end_time": "2021-01-05T18:12:05.457157Z",
     "start_time": "2021-01-05T18:12:05.398798Z"
    }
   },
   "outputs": [
    {
     "data": {
      "text/html": [
       "<div>\n",
       "<style scoped>\n",
       "    .dataframe tbody tr th:only-of-type {\n",
       "        vertical-align: middle;\n",
       "    }\n",
       "\n",
       "    .dataframe tbody tr th {\n",
       "        vertical-align: top;\n",
       "    }\n",
       "\n",
       "    .dataframe thead th {\n",
       "        text-align: right;\n",
       "    }\n",
       "</style>\n",
       "<table border=\"1\" class=\"dataframe\">\n",
       "  <thead>\n",
       "    <tr style=\"text-align: right;\">\n",
       "      <th></th>\n",
       "      <th>0</th>\n",
       "      <th>1</th>\n",
       "      <th>2</th>\n",
       "      <th>3</th>\n",
       "      <th>4</th>\n",
       "      <th>5</th>\n",
       "      <th>6</th>\n",
       "      <th>7</th>\n",
       "      <th>8</th>\n",
       "      <th>9</th>\n",
       "      <th>...</th>\n",
       "      <th>190</th>\n",
       "      <th>191</th>\n",
       "      <th>192</th>\n",
       "      <th>193</th>\n",
       "      <th>194</th>\n",
       "      <th>195</th>\n",
       "      <th>196</th>\n",
       "      <th>197</th>\n",
       "      <th>198</th>\n",
       "      <th>199</th>\n",
       "    </tr>\n",
       "  </thead>\n",
       "  <tbody>\n",
       "    <tr>\n",
       "      <th>0</th>\n",
       "      <td>-1.200958</td>\n",
       "      <td>-0.748129</td>\n",
       "      <td>-1.609783</td>\n",
       "      <td>1.534683</td>\n",
       "      <td>-0.447586</td>\n",
       "      <td>0.497946</td>\n",
       "      <td>-0.316533</td>\n",
       "      <td>1.335989</td>\n",
       "      <td>-0.726742</td>\n",
       "      <td>-1.826400</td>\n",
       "      <td>...</td>\n",
       "      <td>-1.094135</td>\n",
       "      <td>-1.017225</td>\n",
       "      <td>1.081904</td>\n",
       "      <td>-1.871739</td>\n",
       "      <td>-0.963772</td>\n",
       "      <td>-0.392770</td>\n",
       "      <td>-0.928829</td>\n",
       "      <td>-1.076690</td>\n",
       "      <td>-0.459370</td>\n",
       "      <td>0.841868</td>\n",
       "    </tr>\n",
       "    <tr>\n",
       "      <th>1</th>\n",
       "      <td>-0.879703</td>\n",
       "      <td>-0.746058</td>\n",
       "      <td>-1.421416</td>\n",
       "      <td>-1.594064</td>\n",
       "      <td>-0.210879</td>\n",
       "      <td>-1.168217</td>\n",
       "      <td>-1.665984</td>\n",
       "      <td>3.290594</td>\n",
       "      <td>0.255643</td>\n",
       "      <td>-1.656996</td>\n",
       "      <td>...</td>\n",
       "      <td>-0.113013</td>\n",
       "      <td>0.026096</td>\n",
       "      <td>-1.270595</td>\n",
       "      <td>-0.944150</td>\n",
       "      <td>-1.202214</td>\n",
       "      <td>-0.833773</td>\n",
       "      <td>-0.470943</td>\n",
       "      <td>-1.128723</td>\n",
       "      <td>-1.052766</td>\n",
       "      <td>-1.321458</td>\n",
       "    </tr>\n",
       "    <tr>\n",
       "      <th>2</th>\n",
       "      <td>0.845625</td>\n",
       "      <td>1.168285</td>\n",
       "      <td>1.468284</td>\n",
       "      <td>-0.045874</td>\n",
       "      <td>1.223662</td>\n",
       "      <td>-0.297803</td>\n",
       "      <td>-0.609097</td>\n",
       "      <td>-0.229409</td>\n",
       "      <td>0.625650</td>\n",
       "      <td>1.631372</td>\n",
       "      <td>...</td>\n",
       "      <td>1.213277</td>\n",
       "      <td>1.801117</td>\n",
       "      <td>-0.636058</td>\n",
       "      <td>1.980445</td>\n",
       "      <td>0.576992</td>\n",
       "      <td>0.671615</td>\n",
       "      <td>1.025956</td>\n",
       "      <td>0.921024</td>\n",
       "      <td>-0.397102</td>\n",
       "      <td>-2.042325</td>\n",
       "    </tr>\n",
       "  </tbody>\n",
       "</table>\n",
       "<p>3 rows × 200 columns</p>\n",
       "</div>"
      ],
      "text/plain": [
       "          0         1         2         3         4         5         6  \\\n",
       "0 -1.200958 -0.748129 -1.609783  1.534683 -0.447586  0.497946 -0.316533   \n",
       "1 -0.879703 -0.746058 -1.421416 -1.594064 -0.210879 -1.168217 -1.665984   \n",
       "2  0.845625  1.168285  1.468284 -0.045874  1.223662 -0.297803 -0.609097   \n",
       "\n",
       "          7         8         9  ...       190       191       192       193  \\\n",
       "0  1.335989 -0.726742 -1.826400  ... -1.094135 -1.017225  1.081904 -1.871739   \n",
       "1  3.290594  0.255643 -1.656996  ... -0.113013  0.026096 -1.270595 -0.944150   \n",
       "2 -0.229409  0.625650  1.631372  ...  1.213277  1.801117 -0.636058  1.980445   \n",
       "\n",
       "        194       195       196       197       198       199  \n",
       "0 -0.963772 -0.392770 -0.928829 -1.076690 -0.459370  0.841868  \n",
       "1 -1.202214 -0.833773 -0.470943 -1.128723 -1.052766 -1.321458  \n",
       "2  0.576992  0.671615  1.025956  0.921024 -0.397102 -2.042325  \n",
       "\n",
       "[3 rows x 200 columns]"
      ]
     },
     "execution_count": 20,
     "metadata": {},
     "output_type": "execute_result"
    }
   ],
   "source": [
    "zlstm = pd.read_csv(\"data/vae_latent_scenario_4.csv\", index_col=0)\n",
    "vlstm = pd.read_csv(\"data/vae_params_scenario_4.csv\", index_col=0)\n",
    "zlstm.head()"
   ]
  },
  {
   "cell_type": "code",
   "execution_count": 21,
   "metadata": {
    "ExecuteTime": {
     "end_time": "2021-01-05T18:12:12.239569Z",
     "start_time": "2021-01-05T18:12:12.207619Z"
    }
   },
   "outputs": [
    {
     "data": {
      "text/html": [
       "<div>\n",
       "<style scoped>\n",
       "    .dataframe tbody tr th:only-of-type {\n",
       "        vertical-align: middle;\n",
       "    }\n",
       "\n",
       "    .dataframe tbody tr th {\n",
       "        vertical-align: top;\n",
       "    }\n",
       "\n",
       "    .dataframe thead th {\n",
       "        text-align: right;\n",
       "    }\n",
       "</style>\n",
       "<table border=\"1\" class=\"dataframe\">\n",
       "  <thead>\n",
       "    <tr style=\"text-align: right;\">\n",
       "      <th></th>\n",
       "      <th>0</th>\n",
       "      <th>1</th>\n",
       "      <th>2</th>\n",
       "      <th>3</th>\n",
       "      <th>4</th>\n",
       "      <th>5</th>\n",
       "      <th>6</th>\n",
       "      <th>7</th>\n",
       "      <th>8</th>\n",
       "      <th>9</th>\n",
       "      <th>...</th>\n",
       "      <th>190</th>\n",
       "      <th>191</th>\n",
       "      <th>192</th>\n",
       "      <th>193</th>\n",
       "      <th>194</th>\n",
       "      <th>195</th>\n",
       "      <th>196</th>\n",
       "      <th>197</th>\n",
       "      <th>198</th>\n",
       "      <th>199</th>\n",
       "    </tr>\n",
       "  </thead>\n",
       "  <tbody>\n",
       "    <tr>\n",
       "      <th>0</th>\n",
       "      <td>9.000000</td>\n",
       "      <td>8.000000</td>\n",
       "      <td>10.000000</td>\n",
       "      <td>4.000000</td>\n",
       "      <td>6.000000</td>\n",
       "      <td>5.000000</td>\n",
       "      <td>7.000000</td>\n",
       "      <td>3.00000</td>\n",
       "      <td>7.000000</td>\n",
       "      <td>10.000000</td>\n",
       "      <td>...</td>\n",
       "      <td>9.000000</td>\n",
       "      <td>8.000000</td>\n",
       "      <td>5.000000</td>\n",
       "      <td>9.000000</td>\n",
       "      <td>8.000000</td>\n",
       "      <td>6.000000</td>\n",
       "      <td>8.000000</td>\n",
       "      <td>9.000000</td>\n",
       "      <td>7.000000</td>\n",
       "      <td>5.000000</td>\n",
       "    </tr>\n",
       "    <tr>\n",
       "      <th>1</th>\n",
       "      <td>3.000000</td>\n",
       "      <td>6.000000</td>\n",
       "      <td>8.000000</td>\n",
       "      <td>1.000000</td>\n",
       "      <td>5.000000</td>\n",
       "      <td>4.000000</td>\n",
       "      <td>3.000000</td>\n",
       "      <td>2.00000</td>\n",
       "      <td>4.000000</td>\n",
       "      <td>6.000000</td>\n",
       "      <td>...</td>\n",
       "      <td>4.000000</td>\n",
       "      <td>3.000000</td>\n",
       "      <td>3.000000</td>\n",
       "      <td>4.000000</td>\n",
       "      <td>2.000000</td>\n",
       "      <td>1.000000</td>\n",
       "      <td>7.000000</td>\n",
       "      <td>2.000000</td>\n",
       "      <td>1.000000</td>\n",
       "      <td>3.000000</td>\n",
       "    </tr>\n",
       "    <tr>\n",
       "      <th>2</th>\n",
       "      <td>0.219958</td>\n",
       "      <td>0.602079</td>\n",
       "      <td>0.494748</td>\n",
       "      <td>0.859589</td>\n",
       "      <td>0.496658</td>\n",
       "      <td>0.496658</td>\n",
       "      <td>0.898035</td>\n",
       "      <td>0.71054</td>\n",
       "      <td>0.047038</td>\n",
       "      <td>0.337226</td>\n",
       "      <td>...</td>\n",
       "      <td>0.633313</td>\n",
       "      <td>0.451392</td>\n",
       "      <td>0.587359</td>\n",
       "      <td>0.530978</td>\n",
       "      <td>0.905795</td>\n",
       "      <td>0.587359</td>\n",
       "      <td>0.951938</td>\n",
       "      <td>0.633313</td>\n",
       "      <td>0.244185</td>\n",
       "      <td>0.716113</td>\n",
       "    </tr>\n",
       "  </tbody>\n",
       "</table>\n",
       "<p>3 rows × 200 columns</p>\n",
       "</div>"
      ],
      "text/plain": [
       "          0         1          2         3         4         5         6  \\\n",
       "0  9.000000  8.000000  10.000000  4.000000  6.000000  5.000000  7.000000   \n",
       "1  3.000000  6.000000   8.000000  1.000000  5.000000  4.000000  3.000000   \n",
       "2  0.219958  0.602079   0.494748  0.859589  0.496658  0.496658  0.898035   \n",
       "\n",
       "         7         8          9  ...       190       191       192       193  \\\n",
       "0  3.00000  7.000000  10.000000  ...  9.000000  8.000000  5.000000  9.000000   \n",
       "1  2.00000  4.000000   6.000000  ...  4.000000  3.000000  3.000000  4.000000   \n",
       "2  0.71054  0.047038   0.337226  ...  0.633313  0.451392  0.587359  0.530978   \n",
       "\n",
       "        194       195       196       197       198       199  \n",
       "0  8.000000  6.000000  8.000000  9.000000  7.000000  5.000000  \n",
       "1  2.000000  1.000000  7.000000  2.000000  1.000000  3.000000  \n",
       "2  0.905795  0.587359  0.951938  0.633313  0.244185  0.716113  \n",
       "\n",
       "[3 rows x 200 columns]"
      ]
     },
     "execution_count": 21,
     "metadata": {},
     "output_type": "execute_result"
    }
   ],
   "source": [
    "vlstm.head()"
   ]
  },
  {
   "cell_type": "markdown",
   "metadata": {},
   "source": [
    "### with m"
   ]
  },
  {
   "cell_type": "code",
   "execution_count": 22,
   "metadata": {
    "ExecuteTime": {
     "end_time": "2021-01-05T18:12:30.939518Z",
     "start_time": "2021-01-05T18:12:30.905338Z"
    }
   },
   "outputs": [
    {
     "name": "stderr",
     "output_type": "stream",
     "text": [
      "C:\\Users\\Alacrity\\Documents\\GitHub\\graphDisentanglement\\submission\\mig.py:29: FutureWarning: Support for multi-dimensional indexing (e.g. `obj[:, None]`) is deprecated and will be removed in a future version.  Convert to a numpy array before indexing instead.\n",
      "  return (data - mean[:, np.newaxis]) / stddev[:, np.newaxis], mean, stddev\n"
     ]
    },
    {
     "data": {
      "text/plain": [
       "0.11687011349363031"
      ]
     },
     "execution_count": 22,
     "metadata": {},
     "output_type": "execute_result"
    }
   ],
   "source": [
    "vlstm_array = vlstm.to_numpy()\n",
    "MIG(zlstm, vlstm_array).compute_mig()"
   ]
  },
  {
   "cell_type": "markdown",
   "metadata": {},
   "source": [
    "### with m/n"
   ]
  },
  {
   "cell_type": "code",
   "execution_count": 23,
   "metadata": {
    "ExecuteTime": {
     "end_time": "2021-01-05T18:12:58.175002Z",
     "start_time": "2021-01-05T18:12:58.134770Z"
    }
   },
   "outputs": [
    {
     "name": "stderr",
     "output_type": "stream",
     "text": [
      "C:\\Users\\Alacrity\\Documents\\GitHub\\graphDisentanglement\\submission\\mig.py:29: FutureWarning: Support for multi-dimensional indexing (e.g. `obj[:, None]`) is deprecated and will be removed in a future version.  Convert to a numpy array before indexing instead.\n",
      "  return (data - mean[:, np.newaxis]) / stddev[:, np.newaxis], mean, stddev\n"
     ]
    },
    {
     "data": {
      "text/plain": [
       "0.13107513831698445"
      ]
     },
     "execution_count": 23,
     "metadata": {},
     "output_type": "execute_result"
    }
   ],
   "source": [
    "#Define m/n and add it to our array\n",
    "vlstm = vlstm.append(vlstm.apply(lambda x: x[1] / x[0], axis=0), ignore_index=True)\n",
    "#remove m\n",
    "vlstm = vlstm.drop([1])\n",
    "vlstm_array = vlstm.to_numpy()\n",
    "MIG(zlstm, vlstm_array).compute_mig()"
   ]
  },
  {
   "cell_type": "code",
   "execution_count": null,
   "metadata": {},
   "outputs": [],
   "source": []
  }
 ],
 "metadata": {
  "hide_input": false,
  "kernelspec": {
   "display_name": "Python 3",
   "language": "python",
   "name": "python3"
  },
  "language_info": {
   "codemirror_mode": {
    "name": "ipython",
    "version": 3
   },
   "file_extension": ".py",
   "mimetype": "text/x-python",
   "name": "python",
   "nbconvert_exporter": "python",
   "pygments_lexer": "ipython3",
   "version": "3.7.6"
  },
  "varInspector": {
   "cols": {
    "lenName": 16,
    "lenType": 16,
    "lenVar": 40
   },
   "kernels_config": {
    "python": {
     "delete_cmd_postfix": "",
     "delete_cmd_prefix": "del ",
     "library": "var_list.py",
     "varRefreshCmd": "print(var_dic_list())"
    },
    "r": {
     "delete_cmd_postfix": ") ",
     "delete_cmd_prefix": "rm(",
     "library": "var_list.r",
     "varRefreshCmd": "cat(var_dic_list()) "
    }
   },
   "types_to_exclude": [
    "module",
    "function",
    "builtin_function_or_method",
    "instance",
    "_Feature"
   ],
   "window_display": false
  }
 },
 "nbformat": 4,
 "nbformat_minor": 4
}
