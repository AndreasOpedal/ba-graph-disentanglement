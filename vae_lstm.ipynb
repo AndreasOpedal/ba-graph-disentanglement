{
 "cells": [
  {
   "cell_type": "markdown",
   "metadata": {},
   "source": [
    "# Description"
   ]
  },
  {
   "cell_type": "markdown",
   "metadata": {},
   "source": [
    "This notebook implements the VAE LSTM model. All the code was written by our Deep Learning project team. \n",
    "Additional external code is imported. You will first find the tool functions \n",
    "for generating the data and building the models. \n",
    "Then, at the bottom of the notebook you will find the experiments with plots and results used in our report. \n",
    "\n",
    "You can find the customized loss function in the `Tool Functions` part of the code below. It is called \n",
    "`reconstruction_loss`. "
   ]
  },
  {
   "cell_type": "markdown",
   "metadata": {},
   "source": [
    "# Imports"
   ]
  },
  {
   "cell_type": "code",
   "execution_count": 2,
   "metadata": {},
   "outputs": [],
   "source": [
    "## Network Processing\n",
    "import networkx as nx \n",
    "from barabasi_albert import barabasi_albert_graph\n",
    "\n",
    "## Matrix Processing\n",
    "import numpy as np\n",
    "import pandas as pd\n",
    "import scipy as sp\n",
    "\n",
    "## VAE LSTM\n",
    "import keras.backend as K\n",
    "from keras.models import Input, Model, Sequential\n",
    "from keras.layers import Dense, Activation, Dropout, Lambda, LSTM, \\\n",
    "                Conv1DTranspose, Conv2DTranspose, Permute, Bidirectional\n",
    "from multi_graph_cnn_layer import MultiGraphCNN\n",
    "import tensorflow as tf\n",
    "from tensorflow import keras\n",
    "from tensorflow.keras import layers\n",
    "\n",
    "## Data Processing\n",
    "from sklearn.utils import shuffle\n",
    "\n",
    "## External tool functions\n",
    "from utils import *\n",
    "\n",
    "## Error metrics\n",
    "from sklearn.metrics import mean_squared_error, r2_score\n",
    "\n",
    "## Pseudorandom number generator\n",
    "from random import seed\n",
    "from random import randint\n",
    "\n",
    "## Plotting \n",
    "import matplotlib.pyplot as plt"
   ]
  },
  {
   "cell_type": "markdown",
   "metadata": {},
   "source": [
    "# TOOL FUNCTIONS"
   ]
  },
  {
   "cell_type": "markdown",
   "metadata": {},
   "source": [
    "### Data Generation"
   ]
  },
  {
   "cell_type": "code",
   "execution_count": 3,
   "metadata": {},
   "outputs": [],
   "source": [
    "def generate_barabasi_adj_matrix(n, m, alpha=1):\n",
    "    \"\"\"Generates a Barabasi Alert graph and returns an adjacency matrix with\n",
    "     a node ordering defined by the networkx Graph library\"\"\"\n",
    "    \n",
    "    assert n <= N_MAX, 'n must be less or equal that N_MAX'\n",
    "    \n",
    "    adj_matrix = np.zeros((N_MAX, N_MAX))\n",
    "        \n",
    "    networkx_graph = barabasi_albert_graph(n, m, alpha, seed=SEED)\n",
    "    sparse_matrix = nx.linalg.graphmatrix.adjacency_matrix(networkx_graph, nodelist=None, weight=None)\n",
    "    \n",
    "    adj_matrix[:n, :n] = sparse_matrix.todense()\n",
    "    \n",
    "    return adj_matrix"
   ]
  },
  {
   "cell_type": "code",
   "execution_count": 4,
   "metadata": {},
   "outputs": [],
   "source": [
    "def generate_multi_barabasi_graphs(nb_graphs, scenario_type):\n",
    "    \"\"\"Generates 'nb_graphs' Barabasi graphs. Each graph has 'n' nodes, the first \n",
    "    parameter of the Barabasi-Albert model, where 'n' is selected in a different way depending \n",
    "    of the 'scenario_type', as well as 'm' and 'alpha'.\n",
    "    The function outputs the adjacency matrices, the feature matrices (identity matrices) \n",
    "    and the parameters n and m used in the data generation process\"\"\"\n",
    "    \n",
    "    # Each matrix generated during the graph generation process is vertically concatenated to the output\n",
    "    adjacency_matrices = np.zeros((nb_graphs*N_MAX, N_MAX))\n",
    "    feature_matrices = np.zeros((nb_graphs*N_MAX, N_MAX))\n",
    "    parameter_vectors = np.zeros((nb_graphs, LATENT_SPACE_SIZE))\n",
    "\n",
    "    for sample_graph_index in range(nb_graphs):\n",
    "        \n",
    "        if scenario_type == 0:\n",
    "            # n is constant, m is constant and alpha = 1\n",
    "            n = N_MIN\n",
    "            m = N_MIN-1\n",
    "            alpha = 1\n",
    "            \n",
    "        if scenario_type == 1:\n",
    "            # n is constant, m varies and alpha = 1\n",
    "            n = N_MIN\n",
    "            m = randint(1, n-1)\n",
    "            alpha = 1\n",
    "            \n",
    "        if scenario_type == 2:\n",
    "            # n varies, m is proportional to n and alpha = 1\n",
    "            n = randint(N_MIN, N_MAX)\n",
    "            m = max(1, int(n / 3.0))\n",
    "            alpha = 1\n",
    "            \n",
    "        if scenario_type == 3:\n",
    "            # n varies, m varies and alpha = 1\n",
    "            n = randint(N_MIN, N_MAX)\n",
    "            m = randint(1, n-1)\n",
    "            alpha = 1\n",
    "            \n",
    "        if scenario_type == 4:\n",
    "            # n varies, m varies and alpha varies in [0,1]\n",
    "            n = randint(N_MIN, N_MAX)\n",
    "            m = randint(1, n-1)\n",
    "            alpha = np.random.uniform()\n",
    "        \n",
    "        # Generate Barabasi Graph adjacency matrix\n",
    "        adj_matrix = generate_barabasi_adj_matrix(n, m, alpha)\n",
    "\n",
    "        # Update output matrices\n",
    "        row_start_index = N_MAX * sample_graph_index\n",
    "        \n",
    "        adjacency_matrices[row_start_index: row_start_index + N_MAX, :] = adj_matrix\n",
    "        feature_matrices[row_start_index: row_start_index + n, :n] = np.eye(n)\n",
    "        parameter_vectors[sample_graph_index, :] = [n, m, alpha]\n",
    "    \n",
    "    return adjacency_matrices, feature_matrices, parameter_vectors"
   ]
  },
  {
   "cell_type": "code",
   "execution_count": 5,
   "metadata": {},
   "outputs": [],
   "source": [
    "def format_data(A, X, Y):\n",
    "    \"\"\"\n",
    "    Format the data such that it is a matrix of matrices (a batch containing sample matrices)\n",
    "    \"\"\"\n",
    "\n",
    "    # Load and prepare the adjacency matrices\n",
    "    num_graph_nodes = A.shape[1]\n",
    "    num_graphs = int(A.shape[0]/A.shape[1])\n",
    "\n",
    "    A = np.split(A, num_graphs, axis=0)\n",
    "    A = np.array(A)\n",
    "\n",
    "    # Load and prepare the feature matrices\n",
    "    X = np.split(X, num_graphs, axis=0)\n",
    "    X = np.array(X)\n",
    "\n",
    "    # Shuffle data before training\n",
    "    A, X, Y = shuffle(A, X, Y)\n",
    "    \n",
    "    return A, X, Y "
   ]
  },
  {
   "cell_type": "markdown",
   "metadata": {},
   "source": [
    "### VAE LSTM"
   ]
  },
  {
   "cell_type": "code",
   "execution_count": 6,
   "metadata": {},
   "outputs": [],
   "source": [
    "class Sampling(layers.Layer):\n",
    "    \"\"\"Uses (z_mean, z_log_var) to sample z, the vector encoding a digit.\"\"\"\n",
    "\n",
    "    def call(self, inputs):\n",
    "        z_mean, z_log_var = inputs\n",
    "        batch = tf.shape(z_mean)[0]\n",
    "        dim = tf.shape(z_mean)[1]\n",
    "        epsilon = tf.keras.backend.random_normal(shape=(batch, dim))\n",
    "        return z_mean + tf.exp(0.5 * z_log_var) * epsilon"
   ]
  },
  {
   "cell_type": "code",
   "execution_count": 7,
   "metadata": {},
   "outputs": [],
   "source": [
    "def get_mask(step):\n",
    "    \"\"\"\n",
    "    Tool function used in the customized loss. Create a mask that select a specific step of the \n",
    "    output sequence of graphs in the LSTM. \n",
    "    \"\"\"\n",
    "    \n",
    "    if step > 0: \n",
    "          \n",
    "        mask_zeros_before = tf.fill([BATCH_SIZE_VAE, step, N_MAX, N_MAX], 0.0)\n",
    "        mask_ones = tf.fill([BATCH_SIZE_VAE, 1, N_MAX, N_MAX], 1.0)\n",
    "        mask_zeros_after = tf.fill([BATCH_SIZE_VAE, N_MAX-step-1, N_MAX, N_MAX], 0.0)\n",
    "        \n",
    "        mask = tf.concat([mask_zeros_before, mask_ones, mask_zeros_after], axis=1)\n",
    "    \n",
    "    else:\n",
    "        \n",
    "        mask_ones = tf.fill([BATCH_SIZE_VAE, 1, N_MAX, N_MAX], 1.0)\n",
    "        mask_zeros_after = tf.fill([BATCH_SIZE_VAE, N_MAX-1, N_MAX, N_MAX], 0.0)\n",
    "        mask = tf.concat([mask_ones, mask_zeros_after], axis=1)\n",
    "        \n",
    "    return mask"
   ]
  },
  {
   "cell_type": "code",
   "execution_count": 8,
   "metadata": {},
   "outputs": [],
   "source": [
    "def reconstruction_loss(y_true, y_pred):\n",
    "    \"\"\"\n",
    "    Customized reconstruction loss. It ensures that the output sequence of the LSTM corresponds to \n",
    "    valid adjacency matrices (symmetric, trace equals 0) and that the first graph is empty, the last \n",
    "    graph has similar propreties as the input graph (same number of nodes, number of edges, \n",
    "    degree distribution) and the graphs in between have increasing number of nodes and edges.\n",
    "    \"\"\"\n",
    "    \n",
    "    y_pred = K.reshape(y_pred, shape = (BATCH_SIZE_VAE, N_MAX, N_MAX, N_MAX))   \n",
    "    reconstruction_loss = tf.fill([BATCH_SIZE_VAE, N_MAX], 0.0)\n",
    "             \n",
    "    ## Loss all steps\n",
    "     \n",
    "    # Ensures symmetry\n",
    "    t_transpose = tf.transpose(y_pred, perm=[0, 1, 3, 2])\n",
    "    non_symmetry_loss = y_pred - t_transpose\n",
    "    non_symmetry_loss = non_symmetry_loss * non_symmetry_loss\n",
    "    non_symmetry_loss = tf.math.reduce_sum(non_symmetry_loss, axis=[-1,-2])\n",
    "    reconstruction_loss += non_symmetry_loss\n",
    "    \n",
    "    # Ensures that the trace is 0\n",
    "    trace_mask = np.repeat(np.zeros((N_MAX, N_MAX)), N_MAX).reshape((N_MAX, N_MAX, N_MAX))\n",
    "    for i in range(len(trace_mask)):\n",
    "        trace_mask[i,:,:] = np.eye(N_MAX)\n",
    "    trace_mask = tf.constant(trace_mask, dtype=tf.dtypes.float32)\n",
    "    trace_loss = y_pred * trace_mask\n",
    "    trace_loss = tf.math.reduce_sum(trace_loss, axis=[-1,-2])\n",
    "    trace_loss = trace_loss * trace_loss\n",
    "    reconstruction_loss += trace_loss\n",
    "    \n",
    "    # Ensures that there is an increasing number of nodes\n",
    "    sum_per_step = tf.math.reduce_sum(y_pred, axis=[-1,-2])\n",
    "    sum_per_step_rolled = tf.roll(sum_per_step, shift=1, axis=1)\n",
    "    first_step_mask = np.zeros((BATCH_SIZE_VAE, N_MAX))\n",
    "    first_step_mask[:, 0] = np.ones((BATCH_SIZE_VAE, 1)).flatten()\n",
    "    sum_per_step_rolled = sum_per_step_rolled * (1 - first_step_mask) + sum_per_step * first_step_mask\n",
    "    sum_per_step_loss = sum_per_step - sum_per_step_rolled\n",
    "    sum_per_step_loss = tf.math.maximum(tf.fill([BATCH_SIZE_VAE, N_MAX], 0.0), -1*sum_per_step_loss-1)\n",
    "    sum_per_step_loss = sum_per_step_loss * sum_per_step_loss\n",
    "    reconstruction_loss += sum_per_step_loss\n",
    "    \n",
    "    # Ensures that there is an increasing number of edges\n",
    "    degree_per_step_rolled = tf.roll(y_pred, shift=1, axis=1)\n",
    "    first_step_mask = np.zeros((BATCH_SIZE_VAE, N_MAX, N_MAX, N_MAX))\n",
    "    first_step_mask[:, 0, :, :] = \\\n",
    "                    np.repeat(np.ones((N_MAX, N_MAX)), BATCH_SIZE_VAE).reshape((BATCH_SIZE_VAE, N_MAX, N_MAX))\n",
    "    degree_per_step_rolled = degree_per_step_rolled * (1 - first_step_mask) + y_pred * first_step_mask\n",
    "    degree_per_step_loss = y_pred - degree_per_step_rolled\n",
    "    degree_per_step_loss = \\\n",
    "        tf.math.maximum(tf.fill([BATCH_SIZE_VAE, N_MAX, N_MAX, N_MAX], 0.0), -1*degree_per_step_loss)\n",
    "    degree_per_step_loss = tf.math.reduce_sum(degree_per_step_loss, axis=[-1,-2])\n",
    "    degree_per_step_loss = degree_per_step_loss * degree_per_step_loss\n",
    "    reconstruction_loss += degree_per_step_loss\n",
    "        \n",
    "    # From step loss to global loss\n",
    "    reconstruction_loss = tf.math.reduce_sum(reconstruction_loss, axis=-1)\n",
    "    \n",
    "    ## Loss first step\n",
    "    \n",
    "    # Ensures that we start with an empty graph \n",
    "    mask_first_step = get_mask(step=0)   \n",
    "    y_pred_first_step = y_pred * mask_first_step\n",
    "    first_step_loss = tf.math.reduce_sum(y_pred_first_step, axis=[-1,-2])\n",
    "    first_step_loss = tf.math.reduce_sum(first_step_loss, axis=-1)\n",
    "    first_step_loss = first_step_loss * first_step_loss\n",
    "    reconstruction_loss += first_step_loss\n",
    "    \n",
    "    ## Loss last step\n",
    "    mask_last_step = get_mask(step=N_MAX-1)\n",
    "    y_pred_last_step = y_pred * mask_last_step\n",
    "    \n",
    "    # Ensures that the last graph has the same number of edges than input graph\n",
    "    sum_degrees_loss = tf.math.reduce_sum(y_pred_last_step, axis=[-1,-2])\n",
    "    sum_degrees_loss = tf.math.reduce_sum(sum_degrees_loss, axis=-1)\n",
    "    a_degrees = tf.math.reduce_sum(y_true, axis=[-1,-2])\n",
    "    sum_degrees_loss = (sum_degrees_loss - a_degrees) * (sum_degrees_loss - a_degrees) \n",
    "    sum_degrees_loss = sum_degrees_loss * sum_degrees_loss\n",
    "    reconstruction_loss += sum_degrees_loss\n",
    "       \n",
    "    # Ensures that the last graph has the same edge distribution than input graph\n",
    "    ordered_degrees_pred = tf.math.reduce_sum(y_pred_last_step, axis=-1)\n",
    "    ordered_degrees_pred = tf.math.reduce_sum(ordered_degrees_pred, axis=-2)\n",
    "    ordered_degrees_pred = tf.sort(ordered_degrees_pred,axis=-1)\n",
    "    ordered_degrees_true = tf.math.reduce_sum(y_true, axis=-1)\n",
    "    ordered_degrees_true = tf.sort(ordered_degrees_true,axis=-1)\n",
    "    ordered_degrees_loss = (ordered_degrees_pred-ordered_degrees_true)* \\\n",
    "                            (ordered_degrees_pred-ordered_degrees_true)\n",
    "    ordered_degrees_loss = tf.math.reduce_sum(ordered_degrees_loss, axis=-1)\n",
    "    ordered_degrees_loss = ordered_degrees_loss * ordered_degrees_loss\n",
    "    reconstruction_loss += ordered_degrees_loss\n",
    "    \n",
    "    kl = tf.keras.losses.KLDivergence(reduction=tf.keras.losses.Reduction.NONE)\n",
    "    kl_degree_distribution_loss = tf.math.round(kl(ordered_degrees_true, ordered_degrees_pred))\n",
    "    kl_degree_distribution_loss *= KL_WEIGHT\n",
    "    reconstruction_loss += kl_degree_distribution_loss\n",
    "    \n",
    "    variance_degrees_pred = tf.math.reduce_std(ordered_degrees_pred, axis=1)\n",
    "    variance_degrees_true = tf.math.reduce_std(ordered_degrees_true, axis=1)\n",
    "    variance_degrees_loss = (variance_degrees_pred - variance_degrees_true) * \\\n",
    "                            (variance_degrees_pred - variance_degrees_true)\n",
    "    variance_degrees_loss = variance_degrees_loss * variance_degrees_loss\n",
    "    reconstruction_loss += variance_degrees_loss\n",
    "    \n",
    "    # Ensures that the last graph has the same number of nodes than input graph\n",
    "    binary_last_step = tf.math.round(y_pred_last_step)\n",
    "    n_pred = tf.math.reduce_sum(binary_last_step, axis=-1)\n",
    "    n_pred = tf.math.minimum(tf.fill([BATCH_SIZE_VAE, N_MAX, N_MAX], 1.0), n_pred)\n",
    "    n_pred = tf.math.reduce_sum(n_pred, axis=[-1, -2])\n",
    "    n_true = tf.math.reduce_sum(y_true, axis=-1)\n",
    "    n_true = tf.math.minimum(tf.fill([BATCH_SIZE_VAE, N_MAX], 1.0), n_true)\n",
    "    n_true = tf.math.reduce_sum(n_true, axis=-1)\n",
    "    n_loss = (n_true - n_pred) * (n_true - n_pred)\n",
    "    n_loss = n_loss * n_loss\n",
    "    reconstruction_loss += n_loss\n",
    "        \n",
    "    return reconstruction_loss"
   ]
  },
  {
   "cell_type": "code",
   "execution_count": 9,
   "metadata": {},
   "outputs": [],
   "source": [
    "def latent_space_loss(y_true, y_pred):\n",
    "    \"\"\"\n",
    "    Make sure that the latent variable are positives. This is not a necessary requirement, but helps \n",
    "    for plotting and could help the network to interpret the latent as model parameters. \n",
    "    \"\"\"\n",
    "\n",
    "    positive_params_loss = tf.math.maximum(tf.fill([BATCH_SIZE_VAE, LATENT_SPACE_SIZE], 0.0), -1*y_pred)\n",
    "    positive_params_loss = tf.math.reduce_sum(positive_params_loss, axis=1)   \n",
    "    \n",
    "    return positive_params_loss"
   ]
  },
  {
   "cell_type": "code",
   "execution_count": 10,
   "metadata": {},
   "outputs": [],
   "source": [
    "def build_encoder(X_input_shape, graph_conv_filters_input_shape, num_filters):\n",
    "    \"\"\"\n",
    "    Build the GCN encoder along with the sampling layer. \n",
    "    \"\"\"    \n",
    "    \n",
    "    X_input = Input(shape=X_input_shape)\n",
    "    graph_conv_filters_input = Input(shape=graph_conv_filters_input_shape)\n",
    "\n",
    "    ######## ENCODER #######\n",
    "    \n",
    "    output = MultiGraphCNN(200, num_filters, activation='elu')([X_input, graph_conv_filters_input])\n",
    "    output = Dropout(0.2)(output)\n",
    "    output = MultiGraphCNN(200, num_filters, activation='elu')([output, graph_conv_filters_input])\n",
    "    output = Dropout(0.2)(output)\n",
    "    \n",
    "    # adding a node invariant layer to make sure output does not depends upon the node order in a graph.\n",
    "    output = Lambda(lambda x: K.mean(x, axis=1))(output)  \n",
    "    \n",
    "    output = Dense(256)(output)\n",
    "    output = Dense(128)(output)\n",
    "    output = Dense(64)(output)\n",
    "    output = Dense(32)(output)\n",
    "    output = Dense(16)(output)\n",
    "    output = Dense(4)(output)\n",
    "    \n",
    "    # Sampling layer for VAE\n",
    "    z_mean = layers.Dense(LATENT_SPACE_SIZE, name='z_mean')(output)\n",
    "    z_log_var = layers.Dense(LATENT_SPACE_SIZE, name='z_log_var')(output)\n",
    "    z = Sampling(name='latent_space')([z_mean, z_log_var])\n",
    "    \n",
    "    \n",
    "    encoder = Model(\n",
    "        inputs=[X_input, graph_conv_filters_input], \n",
    "        outputs=[z_mean, z_log_var, z], \n",
    "        name=\"encoder\")\n",
    "    \n",
    "    return encoder"
   ]
  },
  {
   "cell_type": "code",
   "execution_count": 11,
   "metadata": {},
   "outputs": [],
   "source": [
    "def build_decoder():\n",
    "    \"\"\"\n",
    "    Build the decoder with transpode 1D convolutions to create the graph embeddings and then \n",
    "    the LSTM layer for the sequential graph generation. \n",
    "    \"\"\"\n",
    "    \n",
    "    latent_inputs = Input(shape=(LATENT_SPACE_SIZE,))\n",
    "    \n",
    "    ######## DECODER #######\n",
    "    \n",
    "    # From parameters to node embeddings\n",
    "    output = tf.keras.backend.expand_dims(latent_inputs, axis=2)\n",
    "    output = Conv1DTranspose(filters=N_MAX, kernel_size=2, strides=1)(output)\n",
    "    output = Permute((2, 1))(output)\n",
    "    \n",
    "    # From parameters to graph embeddings    \n",
    "    output = Dense(N_MAX*N_MAX)(output)\n",
    "    \n",
    "    # Sequential modeling\n",
    "    output = LSTM(N_MAX*N_MAX, return_sequences=True, activation='sigmoid', name='lstm')(output)\n",
    "    \n",
    "    ###### COMPILE ######## \n",
    "    decoder = Model(latent_inputs, outputs=output, name=\"decoder\")\n",
    "    \n",
    "    return decoder"
   ]
  },
  {
   "cell_type": "code",
   "execution_count": 12,
   "metadata": {},
   "outputs": [],
   "source": [
    "class VAE(keras.Model):\n",
    "    \"\"\"\n",
    "    VAE class combining encoder and decoder and defining the forward step. \n",
    "    \"\"\"\n",
    "    \n",
    "    def __init__(self, F_shape, X_shape, **kwargs):\n",
    "        super(VAE, self).__init__(**kwargs)\n",
    "        \n",
    "        # Build encoder\n",
    "        num_filters = 2\n",
    "        self.encoder = build_encoder(X_shape, F_shape, num_filters)\n",
    "        \n",
    "        # Build decoder\n",
    "        self.decoder = build_decoder()\n",
    "\n",
    "    def train_step(self, data):\n",
    "        if isinstance(data, tuple):\n",
    "            data = data[0]\n",
    "        with tf.GradientTape() as tape:\n",
    "            z_mean, z_log_var, z = self.encoder(data)\n",
    "            reconstruction = self.decoder(z)\n",
    "            rec_loss = reconstruction_loss(data[0], reconstruction) / RECONSTRUCTION_NORMALIZATION\n",
    "            kl_loss = 1 + z_log_var - tf.square(z_mean) - tf.exp(z_log_var)\n",
    "            kl_loss = tf.reduce_mean(kl_loss)\n",
    "            kl_loss *= -0.5\n",
    "                        \n",
    "            total_loss =  rec_loss + kl_loss\n",
    "        grads = tape.gradient(total_loss, self.trainable_weights)\n",
    "        self.optimizer.apply_gradients(zip(grads, self.trainable_weights))\n",
    "        return {\n",
    "            \"loss\": total_loss,\n",
    "            \"reconstruction_loss\": rec_loss,\n",
    "            \"kl_loss\": kl_loss,\n",
    "        }\n",
    "    \n",
    "    def call(self, inputs):\n",
    "        z_mean, z_log_var, z = self.encoder(inputs)\n",
    "        reconstruction = self.decoder(z)\n",
    "        return reconstruction\n",
    "    \n",
    "    def get_latent_values(self, inputs):\n",
    "        latent_space_layer = Model(inputs=self.encoder.input, \n",
    "                                   outputs=self.encoder.get_layer('latent_space').output)\n",
    "        latent_pred = latent_space_layer.predict(inputs)\n",
    "        return latent_pred"
   ]
  },
  {
   "cell_type": "code",
   "execution_count": 13,
   "metadata": {},
   "outputs": [],
   "source": [
    "def fit_vae(A, X):\n",
    "    \"\"\"\n",
    "    Format training data and train VAE. \n",
    "    \"\"\"\n",
    "        \n",
    "    # build graph_conv_filters\n",
    "    num_filters = 2\n",
    "    graph_conv_filters = preprocess_adj_tensor_with_identity(A, SYM_NORM)\n",
    "    \n",
    "    model = VAE((graph_conv_filters.shape[1], graph_conv_filters.shape[2]), (X.shape[1], X.shape[2]))    \n",
    "    model.compile(optimizer=keras.optimizers.Adam())       \n",
    "    model.fit([X, graph_conv_filters], A, batch_size=BATCH_SIZE_VAE, \\\n",
    "              epochs=NB_EPOCHS_VAE, shuffle=True, verbose=0)\n",
    "    \n",
    "    return model"
   ]
  },
  {
   "cell_type": "markdown",
   "metadata": {},
   "source": [
    "### H function"
   ]
  },
  {
   "cell_type": "code",
   "execution_count": 14,
   "metadata": {},
   "outputs": [],
   "source": [
    "def build_h(X_input_shape):\n",
    "    \"\"\"\n",
    "    Build the H function mapping the latent space to the generative parameters.  \n",
    "    \"\"\"\n",
    "        \n",
    "    X_input = Input(shape=X_input_shape)\n",
    "    \n",
    "    ######## Dense Network #######\n",
    "    \n",
    "    output = Dense(8)(X_input)\n",
    "    output = Dense(16)(output)\n",
    "    output = Dense(8)(output)\n",
    "    output = Dense(X_input_shape)(output)\n",
    "       \n",
    "    model = Model(inputs=X_input, outputs=output)\n",
    "    model.compile(loss='mse', optimizer='adam')\n",
    "    \n",
    "    return model"
   ]
  },
  {
   "cell_type": "code",
   "execution_count": 15,
   "metadata": {},
   "outputs": [],
   "source": [
    "def fit_h(X_train, y_train):\n",
    "    \"\"\"\n",
    "    Build and train the H function. \n",
    "    \"\"\"\n",
    "            \n",
    "    model = build_h(X_train.shape[1])  \n",
    "    model.fit(X_train, y_train, batch_size=BATCH_SIZE_H, epochs=NB_EPOCHS_H, shuffle=True, verbose=0)\n",
    "    \n",
    "    return model"
   ]
  },
  {
   "cell_type": "code",
   "execution_count": 16,
   "metadata": {},
   "outputs": [],
   "source": [
    "def predict_h(model, X):\n",
    "    \"\"\"\n",
    "    Predict and round the predictions to integer for the H function.\n",
    "    \"\"\"\n",
    "    \n",
    "    return np.rint(model.predict(X))    "
   ]
  },
  {
   "cell_type": "markdown",
   "metadata": {},
   "source": [
    "### For display"
   ]
  },
  {
   "cell_type": "code",
   "execution_count": 17,
   "metadata": {},
   "outputs": [],
   "source": [
    "def remove_single_nodes(adjacency):\n",
    "    \"\"\"\n",
    "    Take adjacency matrix and remove the single nodes.  \n",
    "    \"\"\"\n",
    "\n",
    "    indices = ~np.all(adjacency == 0, axis=1)\n",
    "    result_adjacency = adjacency[:,indices]\n",
    "    result_adjacency = result_adjacency[indices,:]\n",
    "    \n",
    "    return result_adjacency"
   ]
  },
  {
   "cell_type": "markdown",
   "metadata": {},
   "source": [
    "# Experiments"
   ]
  },
  {
   "cell_type": "markdown",
   "metadata": {},
   "source": [
    "For the LSTM VAE we restrict ourself to the scenario of n and m varying and alpha=1 constant. We will divide the experiments into 2: \n",
    "    * Experiments on the Latent Space\n",
    "    * Experiments on the Predicted Parameters\n",
    "The goal of these experiments is to see if it is possible to make the latent variables more disentangle than with the LSTM AE (meaning that each variable encodes for a single parameter) and if this actually helps the prediction of the parameters. \n",
    "\n",
    "Note that because the customized loss is complex (and surely not convex) \n",
    "the optimizer often struggles to find a good minima and the network fails \n",
    "to output results (the latent space values are all NaNs). Hence, it might be \n",
    "necessary to train the model multiple times before getting results. \n",
    "\n",
    "At the beginning of each experiment you will find the parameters used. The most important variable is TESTED_SCENARIO which should be in {0, 1, 2, 3, 4} and specifies the scenario tested for this experiment. The default settings are such that the code runs in less than 30 min."
   ]
  },
  {
   "cell_type": "markdown",
   "metadata": {},
   "source": [
    "## Experiment 1: Latent Space"
   ]
  },
  {
   "cell_type": "markdown",
   "metadata": {},
   "source": [
    "### Experiment parameters"
   ]
  },
  {
   "cell_type": "code",
   "execution_count": 18,
   "metadata": {},
   "outputs": [],
   "source": [
    "## Tested scenario\n",
    "TESTED_SCENARIO = 3\n",
    "\n",
    "## Number of training graphs\n",
    "NB_TRAINING = 200\n",
    "\n",
    "## Modeling assumptions\n",
    "PARAMETER_SPACE_SIZE = 3 # m, n and alpha\n",
    "LATENT_SPACE_SIZE = 3 # Size of the latent space in AE LSTM\n",
    "N_MAX = 10 # Max number of nodes in the generated graphs\n",
    "N_MIN = 3 # Min number of nodes in the generated graphs (must be at least 2)\n",
    "\n",
    "## For AE LSTM\n",
    "SYM_NORM = True # Use symmetric norm for adjacency matrix or not\n",
    "NB_EPOCHS_VAE = 150\n",
    "BATCH_SIZE_VAE = 1\n",
    "KL_WEIGHT = 10e2\n",
    "RECONSTRUCTION_NORMALIZATION = 10\n",
    "\n",
    "## Seed random number generator\n",
    "SEED = 345\n",
    "np.random.seed(345)\n",
    "tf.random.set_seed(345)\n",
    "seed(SEED)"
   ]
  },
  {
   "cell_type": "markdown",
   "metadata": {},
   "source": [
    "### Compute"
   ]
  },
  {
   "cell_type": "code",
   "execution_count": 19,
   "metadata": {},
   "outputs": [
    {
     "name": "stdout",
     "output_type": "stream",
     "text": [
      "WARNING:tensorflow:AutoGraph could not transform <bound method MultiGraphCNN.call of <multi_graph_cnn_layer.MultiGraphCNN object at 0x000001F644A0ED60>> and will run it as-is.\n",
      "Please report this to the TensorFlow team. When filing the bug, set the verbosity to 10 (on Linux, `export AUTOGRAPH_VERBOSITY=10`) and attach the full output.\n",
      "Cause: module 'gast' has no attribute 'Index'\n",
      "To silence this warning, decorate the function with @tf.autograph.experimental.do_not_convert\n",
      "WARNING: AutoGraph could not transform <bound method MultiGraphCNN.call of <multi_graph_cnn_layer.MultiGraphCNN object at 0x000001F644A0ED60>> and will run it as-is.\n",
      "Please report this to the TensorFlow team. When filing the bug, set the verbosity to 10 (on Linux, `export AUTOGRAPH_VERBOSITY=10`) and attach the full output.\n",
      "Cause: module 'gast' has no attribute 'Index'\n",
      "To silence this warning, decorate the function with @tf.autograph.experimental.do_not_convert\n",
      "WARNING:tensorflow:AutoGraph could not transform <bound method Sampling.call of <__main__.Sampling object at 0x000001F644B72E20>> and will run it as-is.\n",
      "Please report this to the TensorFlow team. When filing the bug, set the verbosity to 10 (on Linux, `export AUTOGRAPH_VERBOSITY=10`) and attach the full output.\n",
      "Cause: module 'gast' has no attribute 'Index'\n",
      "To silence this warning, decorate the function with @tf.autograph.experimental.do_not_convert\n",
      "WARNING: AutoGraph could not transform <bound method Sampling.call of <__main__.Sampling object at 0x000001F644B72E20>> and will run it as-is.\n",
      "Please report this to the TensorFlow team. When filing the bug, set the verbosity to 10 (on Linux, `export AUTOGRAPH_VERBOSITY=10`) and attach the full output.\n",
      "Cause: module 'gast' has no attribute 'Index'\n",
      "To silence this warning, decorate the function with @tf.autograph.experimental.do_not_convert\n"
     ]
    }
   ],
   "source": [
    "result_matrix_latent = np.zeros((LATENT_SPACE_SIZE, NB_TRAINING))\n",
    "result_matrix_parameters = np.zeros((PARAMETER_SPACE_SIZE, NB_TRAINING))\n",
    "       \n",
    "# Generate train data\n",
    "A_train, X_train, Y_train = \\\n",
    "    generate_multi_barabasi_graphs(nb_graphs = NB_TRAINING, scenario_type = TESTED_SCENARIO) \n",
    "A_train, X_train, Y_train = format_data(A_train, X_train, Y_train)\n",
    "\n",
    "# Train\n",
    "model = fit_vae(A_train, X_train)\n",
    "\n",
    "# Retrieve latent space values\n",
    "graph_conv_filters = preprocess_adj_tensor_with_identity(A_train, SYM_NORM)\n",
    "train = [X_train, graph_conv_filters]\n",
    "\n",
    "latent_pred = model.get_latent_values(train)\n",
    "\n",
    "# Store result\n",
    "result_matrix_latent = latent_pred.T\n",
    "result_matrix_parameters = Y_train.T"
   ]
  },
  {
   "cell_type": "code",
   "execution_count": 20,
   "metadata": {},
   "outputs": [],
   "source": [
    "# Store latent and paramaters values into CSV files, this is later used \n",
    "# to compute the Mutual Information Gap (MIG)\n",
    "\n",
    "import pandas as pd \n",
    "pd.DataFrame(result_matrix_latent).to_csv('vae_latent_scenario_3.csv')\n",
    "pd.DataFrame(result_matrix_parameters).to_csv('vae_params_scenario_3.csv')"
   ]
  },
  {
   "cell_type": "markdown",
   "metadata": {},
   "source": [
    "### Display"
   ]
  },
  {
   "cell_type": "code",
   "execution_count": 22,
   "metadata": {},
   "outputs": [
    {
     "name": "stdout",
     "output_type": "stream",
     "text": [
      "\n",
      "Covariance matrix between the latent space and the generative parameters.\n",
      "The rows correspond to Z0, Z1, and Z3. The columns correspond to n, m and alpha respectively.\n",
      "The NaN can be interpreted as 0 correlation.\n",
      "\n",
      "[[-0.95631801 -0.51349383         nan]\n",
      " [ 0.07107399  0.03639961         nan]\n",
      " [ 0.05728686  0.05904462         nan]]\n"
     ]
    },
    {
     "data": {
      "image/png": "[encoded data removed]",
      "text/plain": [
       "<Figure size 1440x1440 with 9 Axes>"
      ]
     },
     "metadata": {
      "needs_background": "light"
     },
     "output_type": "display_data"
    }
   ],
   "source": [
    "fig, axs = plt.subplots(LATENT_SPACE_SIZE, PARAMETER_SPACE_SIZE, figsize=(20, 20))\n",
    "covariance_matrix = np.zeros((LATENT_SPACE_SIZE, PARAMETER_SPACE_SIZE))\n",
    "\n",
    "fig.suptitle('Latent space values for the scenario chosen')\n",
    "for z in range(LATENT_SPACE_SIZE):\n",
    "    for p in range(PARAMETER_SPACE_SIZE):\n",
    "        x = result_matrix_parameters[p, :]\n",
    "        y = result_matrix_latent[z, :]\n",
    "        if np.std(y) != 0:\n",
    "            y = (y - np.mean(y)) / np.std(y)\n",
    "        \n",
    "        covariance_matrix[z, p] = np.corrcoef(y, x)[0, 1]\n",
    "\n",
    "        axs[z, p].scatter(x, y)\n",
    "\n",
    "        if p == 0:\n",
    "            axs[z, p].set_title('z' + str(z) + ' versus n')\n",
    "        if p == 1:\n",
    "            axs[z, p].set_title('z' + str(z) + ' versus m')\n",
    "        if p == 2:\n",
    "            axs[z, p].set_title('z' + str(z) + ' versus alpha')\n",
    "\n",
    "print()\n",
    "print('Covariance matrix between the latent space and the generative parameters.')\n",
    "print('The rows correspond to Z0, Z1, and Z3. The columns correspond to n, m and alpha respectively.')\n",
    "print('The NaN can be interpreted as 0 correlation.')\n",
    "print()\n",
    "print(covariance_matrix)"
   ]
  },
  {
   "cell_type": "markdown",
   "metadata": {},
   "source": [
    "## Experiment 2: Predicted Parameters"
   ]
  },
  {
   "cell_type": "markdown",
   "metadata": {},
   "source": [
    "### Experiment parameters"
   ]
  },
  {
   "cell_type": "code",
   "execution_count": 23,
   "metadata": {},
   "outputs": [],
   "source": [
    "## Tested scenario\n",
    "TESTED_SCENARIO = 3\n",
    "\n",
    "## Number of training graphs\n",
    "NB_TRAINING = 200\n",
    "\n",
    "## Modeling assumptions\n",
    "PARAMETER_SPACE_SIZE = 3 # m, n and alpha\n",
    "LATENT_SPACE_SIZE = 3 # Size of the latent space in AE LSTM\n",
    "N_MAX = 10 # Max number of nodes in the generated graphs\n",
    "N_MIN = 3 # Min number of nodes in the generated graphs (must be at least 2)\n",
    "\n",
    "## For AE LSTM\n",
    "SYM_NORM = True # Use symmetric norm for adjacency matrix or not\n",
    "NB_EPOCHS_AE = 150\n",
    "BATCH_SIZE_AE = 1\n",
    "KL_WEIGHT = 10e2\n",
    "RECONSTRUCTION_NORMALIZATION = 10\n",
    "\n",
    "## For H function\n",
    "NB_EPOCHS_H = 100\n",
    "BATCH_SIZE_H = 1\n",
    "\n",
    "## Seed random number generator\n",
    "SEED = 345\n",
    "np.random.seed(345)\n",
    "tf.random.set_seed(345)\n",
    "seed(SEED)"
   ]
  },
  {
   "cell_type": "markdown",
   "metadata": {},
   "source": [
    "### Compute"
   ]
  },
  {
   "cell_type": "code",
   "execution_count": 24,
   "metadata": {},
   "outputs": [],
   "source": [
    "result_matrix_param_pred = np.zeros((PARAMETER_SPACE_SIZE, NB_TRAINING))\n",
    "result_matrix_param_true = np.zeros((PARAMETER_SPACE_SIZE, NB_TRAINING))\n",
    "\n",
    "# Generate train data\n",
    "A_train, X_train, Y_train = \\\n",
    "    generate_multi_barabasi_graphs(nb_graphs = NB_TRAINING, scenario_type = TESTED_SCENARIO) \n",
    "A_train, X_train, Y_train = format_data(A_train, X_train, Y_train)\n",
    "\n",
    "# Train\n",
    "model = fit_vae(A_train, X_train)\n",
    "\n",
    "# Retrieve latent space values\n",
    "graph_conv_filters = preprocess_adj_tensor_with_identity(A_train, SYM_NORM)\n",
    "train = [X_train, graph_conv_filters]\n",
    "\n",
    "latent_pred = model.get_latent_values(train)\n",
    "\n",
    "# Train H and predict \n",
    "h_X_train = latent_pred\n",
    "h_y_train = Y_train\n",
    "h_model = fit_h(h_X_train, h_y_train)\n",
    "h_prediction = predict_h(h_model, h_X_train)\n",
    "\n",
    "# Store result\n",
    "result_matrix_param_pred = h_prediction.T\n",
    "result_matrix_param_true = Y_train.T"
   ]
  },
  {
   "cell_type": "markdown",
   "metadata": {},
   "source": [
    "### Display"
   ]
  },
  {
   "cell_type": "code",
   "execution_count": 25,
   "metadata": {},
   "outputs": [
    {
     "name": "stdout",
     "output_type": "stream",
     "text": [
      "Result for n: (mse) 0.58 (r2) 0.8776138929332574\n",
      "Result for m: (mse) 3.365 (r2) 0.2386877828054299\n",
      "Result for alpha: (mse) 0.0 (r2) 1.0\n",
      "\n",
      "Covariance vector between the true parameters and the predicted parameters\n",
      "for n, m and alpha respectively:\n",
      "\n",
      "[0.93941554 0.49142151        nan]\n"
     ]
    },
    {
     "name": "stderr",
     "output_type": "stream",
     "text": [
      "C:\\Users\\Alacrity\\anaconda3\\lib\\site-packages\\numpy\\lib\\function_base.py:2534: RuntimeWarning: invalid value encountered in true_divide\n",
      "  c /= stddev[:, None]\n"
     ]
    },
    {
     "data": {
      "image/png": "[encoded data removed]",
      "text/plain": [
       "<Figure size 1440x1440 with 3 Axes>"
      ]
     },
     "metadata": {
      "needs_background": "light"
     },
     "output_type": "display_data"
    }
   ],
   "source": [
    "fig, axs = plt.subplots(PARAMETER_SPACE_SIZE, figsize=(20, 20))\n",
    "covariance_vector = np.zeros((PARAMETER_SPACE_SIZE))\n",
    "\n",
    "fig.suptitle('Parameter predictions for the chosen scenario')\n",
    "for p in range(PARAMETER_SPACE_SIZE):\n",
    "\n",
    "    x = result_matrix_param_true[p, :]\n",
    "    y = result_matrix_param_pred[p, :]\n",
    "    mse = mean_squared_error(x, y)\n",
    "    r_squared = r2_score(x, y)\n",
    "    \n",
    "    covariance_vector[p] = np.corrcoef(y, x)[0, 1]\n",
    "\n",
    "    axs[p].scatter(x, y)\n",
    "    axs[p].plot(x, x)\n",
    "\n",
    "    if p == 0:\n",
    "        axs[p].set_title('Pred versus True for n')\n",
    "        print('Result for n: ' +\n",
    "              '(mse) ' + str(mse) + ' (r2) ' + str(r_squared))\n",
    "    if p == 1:\n",
    "        axs[p].set_title('Pred versus True for m')\n",
    "        print('Result for m: ' +\n",
    "              '(mse) ' + str(mse) + ' (r2) ' + str(r_squared))\n",
    "    if p == 2:\n",
    "        axs[p].set_title('Pred versus True for alpha')\n",
    "        print('Result for alpha: ' +\n",
    "              '(mse) ' + str(mse) + ' (r2) ' + str(r_squared))\n",
    "\n",
    "print()\n",
    "print('Covariance vector between the true parameters and the predicted parameters')\n",
    "print('for n, m and alpha respectively:')\n",
    "print()\n",
    "print(covariance_vector)"
   ]
  },
  {
   "cell_type": "code",
   "execution_count": null,
   "metadata": {},
   "outputs": [],
   "source": []
  }
 ],
 "metadata": {
  "kernelspec": {
   "display_name": "Python 3",
   "language": "python",
   "name": "python3"
  },
  "language_info": {
   "codemirror_mode": {
    "name": "ipython",
    "version": 3
   },
   "file_extension": ".py",
   "mimetype": "text/x-python",
   "name": "python",
   "nbconvert_exporter": "python",
   "pygments_lexer": "ipython3",
   "version": "3.8.3"
  }
 },
 "nbformat": 4,
 "nbformat_minor": 4
}
